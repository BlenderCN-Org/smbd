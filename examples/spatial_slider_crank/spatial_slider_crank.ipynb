{
 "cells": [
  {
   "cell_type": "markdown",
   "metadata": {},
   "source": [
    "# STANDALONE STUDY\n",
    "## **SPATIAL SLIDER-CRANK**\n",
    "---------------------------"
   ]
  },
  {
   "cell_type": "markdown",
   "metadata": {},
   "source": [
    "### **IMPORTANT NOTES**\n",
    "#### **COLAB Machine Setup**\n",
    "If starting a new Colab session, Please open the [colab_setup.ipynb](https://colab.research.google.com/github/khaledghobashy/smbd/blob/master/examples/colab_setup.ipynb) and run all cells.\n",
    "A new Colab session does not mean a new notebook session, you can have various notebook sessions on the same Colab session. The Colab session linked to your Google account expires in 12 hours, and so any data saved on that remote machine will be lost.\n",
    "\n",
    "#### **Package Path.**\n",
    "*This step is temporary unitll the package can be installed via conda and/or pip*\n",
    "- **Colab**. </br>\n",
    "For a Cloab session, the ```pkg_path``` variable is the one relevant to the repository path on the Colab remote machine. This should be used if you are running the notebook on Colab.\n",
    "- **Local Machine**. </br>\n",
    "The ```pkg_path``` variable is where I have the repository on my machine. You should change it to where you cloned the repository on your machine.\n",
    "\n",
    "#### **Projects Directory**\n",
    "- **Colab**.</br>\n",
    "The ```projects_dir``` variable should not be changed.\n",
    "- **Local Machine**. </br>\n",
    "The ```projects_dir``` should be changed to match your desired directory where you store your projects.\n",
    "\n",
    "--------------------------------------------------------------"
   ]
  },
  {
   "cell_type": "code",
   "execution_count": 1,
   "metadata": {},
   "outputs": [],
   "source": [
    "import sys"
   ]
  },
  {
   "cell_type": "markdown",
   "metadata": {},
   "source": [
    "### Colab Session\n",
    "*Run if in a Colab Session Only!*"
   ]
  },
  {
   "cell_type": "code",
   "execution_count": 2,
   "metadata": {},
   "outputs": [],
   "source": [
    "projects_dir = '/content/projects'\n",
    "pkg_path = '/content/smbd'\n",
    "sys.path.append(pkg_path)"
   ]
  },
  {
   "cell_type": "markdown",
   "metadata": {},
   "source": [
    "### Local Session\n",
    "*Run if on your Local Machine!*</br>\n",
    "*Do not forget to change the variables below as illustrated in the notes!*"
   ]
  },
  {
   "cell_type": "code",
   "execution_count": 2,
   "metadata": {},
   "outputs": [],
   "source": [
    "projects_dir = '/home/khaledghobashy/Documents/smbd/examples'\n",
    "pkg_path = '/home/khaledghobashy/Documents/smbd'\n",
    "sys.path.append(pkg_path)"
   ]
  },
  {
   "cell_type": "markdown",
   "metadata": {},
   "source": [
    "---------------------------------------------------------------\n",
    "---------------------------------------------------------------"
   ]
  },
  {
   "cell_type": "code",
   "execution_count": 3,
   "metadata": {},
   "outputs": [],
   "source": [
    "project_name = 'spatial_fourbar'"
   ]
  },
  {
   "cell_type": "code",
   "execution_count": 4,
   "metadata": {},
   "outputs": [],
   "source": [
    "from smbd.interfaces.projects import initialize_project"
   ]
  },
  {
   "cell_type": "code",
   "execution_count": 5,
   "metadata": {},
   "outputs": [
    {
     "name": "stdout",
     "output_type": "stream",
     "text": [
      "Changed working directory to /home/khaledghobashy/Documents/smbd/examples/spatial_fourbar\n"
     ]
    }
   ],
   "source": [
    "initialize_project(project_name, projects_dir)"
   ]
  },
  {
   "cell_type": "markdown",
   "metadata": {},
   "source": [
    "---------------------------------------------------------------\n",
    "---------------------------------------------------------------"
   ]
  },
  {
   "cell_type": "markdown",
   "metadata": {},
   "source": [
    "## **SYSTEM DESCRIPTION**\n",
    "-------------------------"
   ]
  },
  {
   "cell_type": "markdown",
   "metadata": {},
   "source": [
    "### **Important Note**\n",
    "The tool uses [euler-parameters](https://en.wikibooks.org/wiki/Multibody_Mechanics/Euler_Parameters) -which is a 4D unit quaternion- to represents bodies orientation in space. This makes the generalized coordinates used to fully define a body in space to be **7,** instead of **6**, it also adds an algebraic equation to the constraints that ensures the unity/normalization of the body quaternion. This is an important remark as the calculations of the degrees-of-freedom depends on it."
   ]
  },
  {
   "cell_type": "markdown",
   "metadata": {},
   "source": [
    "### **Summary**\n",
    "The spatial slider-crank is another simple closed chain linkage. It converts rotational motion of the crank into a translational motion of the slider or vice versa."
   ]
  },
  {
   "cell_type": "markdown",
   "metadata": {},
   "source": [
    "### **Topology Layout**\n",
    "The mechanism consists of 3 Bodies + 1 Ground. Therefore, total system coordinates -including the ground- is $$n=n_b\\times7 = 4\\times7 = 28$$ \n",
    "where $n_b$ is the total number of bodies. The list of bodies is given below:\n",
    "- Crank $l_1$.\n",
    "- Connecting-Rod $l_2$.\n",
    "- Slider $l_3$.\n",
    "\n",
    "The system connectivity is as follows:\n",
    "- Crank $l_1$ is connected to the ground by a **revolute** joint, resulting in constraint equations $n_{c,rev} = 5$\n",
    "- Connecting-Rod $l_2$ is connected to the Crank $l_1$ by a **spherical** joint, resulting in constraint equations $n_{c,sph} = 3$\n",
    "- Slider $l_3$ is connected to Connecting-Rod $l_2$ by a **universal** joint, resulting in constraint equations $n_{c,uni} = 4$\n",
    "- Slider $l_3$ is connected to the ground by a **translational** joint, resulting in constraint equations $n_{c,trn} = 5$\n",
    "- Total free DOF is $$n-( n_{c,rev}+n_{c,sph}+n_{c,uni}+n_{c,trn}+n_{c,P}+n_{c,g}) = 28-(5+3+4+5+(3\\times1)+7) = 28-27 = 1$$, where the $n_{c,P}$ and $n_{c,g}$ represents the constraints due to euler-parameters normalization equations and the ground-constraints respectively.\n",
    "- The Crank revolute joint is actuated by a rotational actuator, resulting in constraint equations $n_{c,act} = 1$\n",
    "\n",
    "\n",
    "| Joint Name  | Body i         | Body j         | Joint Type    | $n_c$ |\n",
    "|:-----------:|:-------------- |:-------------- | ------------- | ----- |\n",
    "| a           | Ground         | Crank          | Revolute      | 5     |\n",
    "| b           | Crank          | Connecting-Rod | Spherical     | 3     |\n",
    "| c           | Connecting-Rod | Slider         | Universal     | 4     |\n",
    "| d           | Slider         | Ground         | Translational | 5     |"
   ]
  },
  {
   "cell_type": "markdown",
   "metadata": {},
   "source": [
    "-----------------------------------------------"
   ]
  },
  {
   "cell_type": "markdown",
   "metadata": {},
   "source": [
    "## **SYMBOLIC TOPOLOGY**\n",
    "------------------------"
   ]
  },
  {
   "cell_type": "markdown",
   "metadata": {},
   "source": [
    "In this section, we create the symbolic topology that captures the topological layout that we just discussed.</br>\n",
    "Defining the topology is very simple. We start by importing the ```standalone_topology``` class and create a new instance that represents our symbolic model. Then we start adding the components we discussed earlier, starting by the bodies, then the joints, actuators and forces, and thats it.</br>\n",
    "These components will be represented symbolically, and therefore there is no need for any numerical inputs at this step.\n",
    "\n",
    "The system is stored in a form of a network graph that stores all the data needed for the assemblage of the system equations later. But even before the assemblage process, we can gain helpful insights about our system as well be shown.\n"
   ]
  },
  {
   "cell_type": "code",
   "execution_count": 6,
   "metadata": {},
   "outputs": [],
   "source": [
    "from smbd.interfaces.scripting import standalone_topology"
   ]
  },
  {
   "cell_type": "code",
   "execution_count": 10,
   "metadata": {},
   "outputs": [],
   "source": [
    "sym_model = standalone_topology('slider_crank')"
   ]
  },
  {
   "cell_type": "markdown",
   "metadata": {},
   "source": [
    "### Adding Bodies"
   ]
  },
  {
   "cell_type": "code",
   "execution_count": 11,
   "metadata": {},
   "outputs": [],
   "source": [
    "sym_model.add_body('l1')\n",
    "sym_model.add_body('l2')\n",
    "sym_model.add_body('l3')"
   ]
  },
  {
   "cell_type": "markdown",
   "metadata": {},
   "source": [
    "### Adding Joints"
   ]
  },
  {
   "cell_type": "code",
   "execution_count": 12,
   "metadata": {},
   "outputs": [],
   "source": [
    "sym_model.add_joint.revolute('a','ground','rbs_l1')\n",
    "sym_model.add_joint.spherical('b','rbs_l1','rbs_l2')\n",
    "sym_model.add_joint.universal('c','rbs_l2','rbs_l3')\n",
    "sym_model.add_joint.translational('d','rbs_l3','ground')"
   ]
  },
  {
   "cell_type": "markdown",
   "metadata": {},
   "source": [
    "### Adding Actuators"
   ]
  },
  {
   "cell_type": "code",
   "execution_count": 13,
   "metadata": {},
   "outputs": [],
   "source": [
    "sym_model.add_actuator.rotational_actuator('act', 'jcs_a')"
   ]
  },
  {
   "cell_type": "markdown",
   "metadata": {},
   "source": [
    "### Adding Forces"
   ]
  },
  {
   "cell_type": "code",
   "execution_count": 14,
   "metadata": {},
   "outputs": [],
   "source": [
    "#model.add_force.internal_force('force_name', 'body_1', 'body_2', mirror=False)"
   ]
  },
  {
   "cell_type": "markdown",
   "metadata": {
    "colab_type": "text",
    "id": "goKtOBuLd1Kh"
   },
   "source": [
    "### **SYMBOLIC CHARACTERISTICS**"
   ]
  },
  {
   "cell_type": "markdown",
   "metadata": {},
   "source": [
    "#### Topology Graph\n",
    "Visualizing the connectivity of the system as a network graph, where the nodes represent the bodies, and the edges represent the joints, forces and/or actuators between the bodies."
   ]
  },
  {
   "cell_type": "code",
   "execution_count": 16,
   "metadata": {},
   "outputs": [
    {
     "data": {
      "image/png": "[encoded data removed]",
      "text/plain": [
       "<Figure size 720x432 with 1 Axes>"
      ]
     },
     "metadata": {},
     "output_type": "display_data"
    }
   ],
   "source": [
    "sym_model._mbs.draw_constraints_topology()"
   ]
  },
  {
   "cell_type": "markdown",
   "metadata": {},
   "source": [
    "### **ASSEMBLING**"
   ]
  },
  {
   "cell_type": "markdown",
   "metadata": {},
   "source": [
    "This is the last step of the symbolic building process, where we make the system starts the assemblage process of the governing equations, which will be used then in the code generation for the numerical simulation, and also can be used for further symbolic manipulations.</br>\n",
    "\n",
    "*Note: The equations' notations will be discussed in the tool documentation files.*"
   ]
  },
  {
   "cell_type": "code",
   "execution_count": 11,
   "metadata": {},
   "outputs": [],
   "source": [
    "sym_model.assemble()"
   ]
  },
  {
   "cell_type": "markdown",
   "metadata": {},
   "source": [
    "#### Checking the System Equations"
   ]
  },
  {
   "cell_type": "code",
   "execution_count": 17,
   "metadata": {},
   "outputs": [
    {
     "data": {
      "text/latex": [
       "$\\displaystyle \\left[\\begin{matrix}{A({P_{ground}})} {\\bar{u}^{ground}_{jcs_a}} - {A({P_{rbs_l1}})} {\\bar{u}^{rbs_l1}_{jcs_a}} + {R_{ground}} - {R_{rbs_l1}}\\\\\\left({\\hat{i}_{{\\bar{M}^{ground}_{jcs_a}}}}\\right)^{T} \\left({A({P_{ground}})}\\right)^{T} {A({P_{rbs_l1}})} {\\hat{k}_{{\\bar{M}^{rbs_l1}_{jcs_a}}}}\\\\\\left({\\hat{j}_{{\\bar{M}^{ground}_{jcs_a}}}}\\right)^{T} \\left({A({P_{ground}})}\\right)^{T} {A({P_{rbs_l1}})} {\\hat{k}_{{\\bar{M}^{rbs_l1}_{jcs_a}}}}\\\\- \\sin{\\left(\\operatorname{UF_{mcs act}}{\\left(t \\right)} \\right)} \\left({\\hat{i}_{{\\bar{M}^{ground}_{mcs_act}}}}\\right)^{T} \\left({A({P_{ground}})}\\right)^{T} {A({P_{rbs_l1}})} {\\hat{i}_{{\\bar{M}^{rbs_l1}_{mcs_act}}}} + \\cos{\\left(\\operatorname{UF_{mcs act}}{\\left(t \\right)} \\right)} \\left({\\hat{j}_{{\\bar{M}^{ground}_{mcs_act}}}}\\right)^{T} \\left({A({P_{ground}})}\\right)^{T} {A({P_{rbs_l1}})} {\\hat{i}_{{\\bar{M}^{rbs_l1}_{mcs_act}}}}\\\\{A({P_{rbs_l1}})} {\\bar{u}^{rbs_l1}_{jcs_b}} - {A({P_{rbs_l2}})} {\\bar{u}^{rbs_l2}_{jcs_b}} + {R_{rbs_l1}} - {R_{rbs_l2}}\\\\{A({P_{rbs_l2}})} {\\bar{u}^{rbs_l2}_{jcs_c}} - {A({P_{rbs_l3}})} {\\bar{u}^{rbs_l3}_{jcs_c}} + {R_{rbs_l2}} - {R_{rbs_l3}}\\\\\\left({\\hat{i}_{{\\bar{M}^{rbs_l2}_{jcs_c}}}}\\right)^{T} \\left({A({P_{rbs_l2}})}\\right)^{T} {A({P_{rbs_l3}})} {\\hat{i}_{{\\bar{M}^{rbs_l3}_{jcs_c}}}}\\\\\\left({\\hat{i}_{{\\bar{M}^{rbs_l3}_{jcs_d}}}}\\right)^{T} \\left({A({P_{rbs_l3}})}\\right)^{T} {A({P_{ground}})} {\\hat{k}_{{\\bar{M}^{ground}_{jcs_d}}}}\\\\\\left({\\hat{j}_{{\\bar{M}^{rbs_l3}_{jcs_d}}}}\\right)^{T} \\left({A({P_{rbs_l3}})}\\right)^{T} {A({P_{ground}})} {\\hat{k}_{{\\bar{M}^{ground}_{jcs_d}}}}\\\\\\left({\\hat{i}_{{\\bar{M}^{rbs_l3}_{jcs_d}}}}\\right)^{T} \\left({A({P_{rbs_l3}})}\\right)^{T} \\left(- {A({P_{ground}})} {\\bar{u}^{ground}_{jcs_d}} + {A({P_{rbs_l3}})} {\\bar{u}^{rbs_l3}_{jcs_d}} - {R_{ground}} + {R_{rbs_l3}}\\right)\\\\\\left({\\hat{j}_{{\\bar{M}^{rbs_l3}_{jcs_d}}}}\\right)^{T} \\left({A({P_{rbs_l3}})}\\right)^{T} \\left(- {A({P_{ground}})} {\\bar{u}^{ground}_{jcs_d}} + {A({P_{rbs_l3}})} {\\bar{u}^{rbs_l3}_{jcs_d}} - {R_{ground}} + {R_{rbs_l3}}\\right)\\\\\\left({\\hat{i}_{{\\bar{M}^{rbs_l3}_{jcs_d}}}}\\right)^{T} \\left({A({P_{rbs_l3}})}\\right)^{T} {A({P_{ground}})} {\\hat{j}_{{\\bar{M}^{ground}_{jcs_d}}}}\\\\{R_{ground}}\\\\{P_{ground}} - {Pg_{ground}}\\\\- \\mathbb{I} + {P_{rbs_l1}}^{T} {P_{rbs_l1}}\\\\- \\mathbb{I} + {P_{rbs_l2}}^{T} {P_{rbs_l2}}\\\\- \\mathbb{I} + {P_{rbs_l3}}^{T} {P_{rbs_l3}}\\end{matrix}\\right]$"
      ],
      "text/plain": [
       "Matrix([\n",
       "[                                                                                                                     A({P_{ground}})*{\\bar{u}^{ground}_{jcs_a}} - A({P_{rbs_l1}})*{\\bar{u}^{rbs_l1}_{jcs_a}} + {R_{ground}} - {R_{rbs_l1}}],\n",
       "[                                                                                                                                               Mbar_ground_jcs_a[:,(0, 1)].T*A({P_{ground}}).T*A({P_{rbs_l1}})*Mbar_rbs_l1_jcs_a[:,(2, 3)]],\n",
       "[                                                                                                                                               Mbar_ground_jcs_a[:,(1, 2)].T*A({P_{ground}}).T*A({P_{rbs_l1}})*Mbar_rbs_l1_jcs_a[:,(2, 3)]],\n",
       "[(-sin(UF_mcs_act(t)))*Mbar_ground_mcs_act[:,(0, 1)].T*A({P_{ground}}).T*A({P_{rbs_l1}})*Mbar_rbs_l1_mcs_act[:,(0, 1)] + cos(UF_mcs_act(t))*Mbar_ground_mcs_act[:,(1, 2)].T*A({P_{ground}}).T*A({P_{rbs_l1}})*Mbar_rbs_l1_mcs_act[:,(0, 1)]],\n",
       "[                                                                                                                     A({P_{rbs_l1}})*{\\bar{u}^{rbs_l1}_{jcs_b}} - A({P_{rbs_l2}})*{\\bar{u}^{rbs_l2}_{jcs_b}} + {R_{rbs_l1}} - {R_{rbs_l2}}],\n",
       "[                                                                                                                     A({P_{rbs_l2}})*{\\bar{u}^{rbs_l2}_{jcs_c}} - A({P_{rbs_l3}})*{\\bar{u}^{rbs_l3}_{jcs_c}} + {R_{rbs_l2}} - {R_{rbs_l3}}],\n",
       "[                                                                                                                                               Mbar_rbs_l2_jcs_c[:,(0, 1)].T*A({P_{rbs_l2}}).T*A({P_{rbs_l3}})*Mbar_rbs_l3_jcs_c[:,(0, 1)]],\n",
       "[                                                                                                                                               Mbar_rbs_l3_jcs_d[:,(0, 1)].T*A({P_{rbs_l3}}).T*A({P_{ground}})*Mbar_ground_jcs_d[:,(2, 3)]],\n",
       "[                                                                                                                                               Mbar_rbs_l3_jcs_d[:,(1, 2)].T*A({P_{rbs_l3}}).T*A({P_{ground}})*Mbar_ground_jcs_d[:,(2, 3)]],\n",
       "[                                                                  Mbar_rbs_l3_jcs_d[:,(0, 1)].T*A({P_{rbs_l3}}).T*(-A({P_{ground}})*{\\bar{u}^{ground}_{jcs_d}} + A({P_{rbs_l3}})*{\\bar{u}^{rbs_l3}_{jcs_d}} - {R_{ground}} + {R_{rbs_l3}})],\n",
       "[                                                                  Mbar_rbs_l3_jcs_d[:,(1, 2)].T*A({P_{rbs_l3}}).T*(-A({P_{ground}})*{\\bar{u}^{ground}_{jcs_d}} + A({P_{rbs_l3}})*{\\bar{u}^{rbs_l3}_{jcs_d}} - {R_{ground}} + {R_{rbs_l3}})],\n",
       "[                                                                                                                                               Mbar_rbs_l3_jcs_d[:,(0, 1)].T*A({P_{rbs_l3}}).T*A({P_{ground}})*Mbar_ground_jcs_d[:,(1, 2)]],\n",
       "[                                                                                                                                                                                                                              {R_{ground}}],\n",
       "[                                                                                                                                                                                                              {P_{ground}} - {Pg_{ground}}],\n",
       "[                                                                                                                                                                                                          -I + {P_{rbs_l1}}.T*{P_{rbs_l1}}],\n",
       "[                                                                                                                                                                                                          -I + {P_{rbs_l2}}.T*{P_{rbs_l2}}],\n",
       "[                                                                                                                                                                                                          -I + {P_{rbs_l3}}.T*{P_{rbs_l3}}]])"
      ]
     },
     "execution_count": 17,
     "metadata": {},
     "output_type": "execute_result"
    }
   ],
   "source": [
    "sym_model._mbs.pos_equations"
   ]
  },
  {
   "cell_type": "markdown",
   "metadata": {},
   "source": [
    "---------------------------------------------------------------\n",
    "---------------------------------------------------------------"
   ]
  },
  {
   "cell_type": "markdown",
   "metadata": {},
   "source": [
    "## **SYSTEM CONFIGURATION**\n",
    "---------------------------"
   ]
  },
  {
   "cell_type": "markdown",
   "metadata": {},
   "source": [
    "In this step we define a symbolic configuration of our symbolic topology. As you may have noticed in the symbolic topology building step, we only cared about the *'topology'*, thats is the system bodies and their connectivity, and we did not care explicitly with how these components are configured in space.</br>\n",
    "In order to create a valid numerical simulation session, we have to provide the system with its numerical configuration needed, for example, the joints' locations and orientations. The symbolic topology in its raw form will require you to manually enter all these numerical arguments, which can be cumbersome even for smaller systems. This can be checked by checking the configuration inputs of the symbolic configuration as ```config._config.input_nodes```\n",
    "\n",
    "Here we start by stating the symbolic inputs we wish to use instead of the default inputs set, and then we define the relation between these newly defined arguments and the original ones. The details of this process will be provided in the documentation."
   ]
  },
  {
   "cell_type": "code",
   "execution_count": 18,
   "metadata": {},
   "outputs": [],
   "source": [
    "from smbd.interfaces.scripting import configuration"
   ]
  },
  {
   "cell_type": "code",
   "execution_count": 19,
   "metadata": {},
   "outputs": [],
   "source": [
    "config_name = 'slider_crank_cfg'\n",
    "config = configuration(config_name, sym_model)"
   ]
  },
  {
   "cell_type": "code",
   "execution_count": null,
   "metadata": {},
   "outputs": [],
   "source": [
    "config._config.input_nodes"
   ]
  },
  {
   "cell_type": "markdown",
   "metadata": {},
   "source": [
    "### CONFIGURATION RELATIONS"
   ]
  },
  {
   "cell_type": "code",
   "execution_count": 20,
   "metadata": {},
   "outputs": [],
   "source": [
    "config.add_point.UserInput('a')\n",
    "config.add_point.UserInput('b')\n",
    "config.add_point.UserInput('c')\n",
    "config.add_point.UserInput('d')\n",
    "\n",
    "config.add_point.UserInput('s1')\n",
    "config.add_point.UserInput('s2')\n",
    "\n",
    "config.add_vector.UserInput('x')\n",
    "config.add_vector.UserInput('y')\n",
    "config.add_vector.UserInput('z')"
   ]
  },
  {
   "cell_type": "markdown",
   "metadata": {},
   "source": [
    "### CONFIGURATION RELATIONS"
   ]
  },
  {
   "cell_type": "code",
   "execution_count": 21,
   "metadata": {},
   "outputs": [],
   "source": [
    "config.add_relation.Equal_to('pt1_jcs_a', ('hps_a',))\n",
    "config.add_relation.Equal_to('pt1_jcs_b', ('hps_b',))\n",
    "config.add_relation.Equal_to('pt1_jcs_c', ('hps_c',))\n",
    "config.add_relation.Equal_to('pt1_jcs_d', ('hps_d',))\n",
    "\n",
    "config.add_relation.Oriented('ax1_jcs_c', ('hps_b', 'hps_c'))\n",
    "config.add_relation.Equal_to('ax2_jcs_c', ('vcs_x',))\n",
    "\n",
    "config.add_relation.Equal_to('ax1_jcs_a', ('vcs_x',))\n",
    "config.add_relation.Equal_to('ax1_jcs_b', ('vcs_z',))\n",
    "config.add_relation.Equal_to('ax1_jcs_d', ('vcs_x',))\n",
    "\n",
    "config.add_relation.Equal_to('ax1_mcs_act', ('ax1_jcs_a',))"
   ]
  },
  {
   "cell_type": "markdown",
   "metadata": {},
   "source": [
    "### GEOMETRIES"
   ]
  },
  {
   "cell_type": "markdown",
   "metadata": {},
   "source": [
    "Here we start defining basic geometric shapes that can represents the shapes of the bodies in our system. This serves two points:\n",
    "- Visualization and Animation in blender.\n",
    "- Evaluating the bodies inertia properties from these basic geometries instead of explicit definition."
   ]
  },
  {
   "cell_type": "code",
   "execution_count": 22,
   "metadata": {},
   "outputs": [],
   "source": [
    "config.add_scalar.UserInput('links_ro')\n",
    "config.add_scalar.UserInput('block_ro')\n",
    "\n",
    "config.add_geometry.Cylinder_Geometry('l1', ('hps_a','hps_b','s_links_ro'))\n",
    "config.assign_geometry_to_body('rbs_l1', 'gms_l1')\n",
    "\n",
    "config.add_geometry.Cylinder_Geometry('l2', ('hps_b','hps_c','s_links_ro'))\n",
    "config.assign_geometry_to_body('rbs_l2', 'gms_l2')\n",
    "\n",
    "config.add_geometry.Cylinder_Geometry('l3', ('hps_s1','hps_s2','s_block_ro'))\n",
    "config.assign_geometry_to_body('rbs_l3', 'gms_l3')"
   ]
  },
  {
   "cell_type": "markdown",
   "metadata": {},
   "source": [
    "Now lets check the current ```input_nodes```."
   ]
  },
  {
   "cell_type": "code",
   "execution_count": null,
   "metadata": {},
   "outputs": [],
   "source": [
    "config._config.input_nodes"
   ]
  },
  {
   "cell_type": "markdown",
   "metadata": {},
   "source": [
    "### ASSEMBLING"
   ]
  },
  {
   "cell_type": "code",
   "execution_count": 23,
   "metadata": {},
   "outputs": [],
   "source": [
    "config.assemble()\n",
    "config.extract_inputs_to_csv()"
   ]
  },
  {
   "cell_type": "markdown",
   "metadata": {},
   "source": [
    "---------------------------------------------------------------\n",
    "---------------------------------------------------------------"
   ]
  },
  {
   "cell_type": "markdown",
   "metadata": {},
   "source": [
    "## **CODE GENERATION**\n",
    "----------------------"
   ]
  },
  {
   "cell_type": "markdown",
   "metadata": {},
   "source": [
    "This step aims to create a valid code that can be used for numerical simulation. We will use the ***python code generators*** to create a valid numerical simulation environment in python.</br>\n",
    "Theoretically, the symbolic environment is uncoupled from the simulation environment, which opens the door to create various simulation environments that can be in any language."
   ]
  },
  {
   "cell_type": "markdown",
   "metadata": {
    "colab_type": "text",
    "id": "udnBb6lvi9fo"
   },
   "source": [
    "### Importing Python Code Generators"
   ]
  },
  {
   "cell_type": "code",
   "execution_count": 24,
   "metadata": {},
   "outputs": [],
   "source": [
    "from smbd.numenv.python.codegen import generators"
   ]
  },
  {
   "cell_type": "markdown",
   "metadata": {
    "colab_type": "text",
    "id": "w-KSwTyjjN5P"
   },
   "source": [
    "### Generating Files"
   ]
  },
  {
   "cell_type": "code",
   "execution_count": 25,
   "metadata": {},
   "outputs": [
    {
     "name": "stdout",
     "output_type": "stream",
     "text": [
      "File full path : slider_crank.py\n"
     ]
    }
   ],
   "source": [
    "model_code = generators.template_codegen(sym_model._mbs)\n",
    "model_code.write_code_file()"
   ]
  },
  {
   "cell_type": "code",
   "execution_count": 26,
   "metadata": {},
   "outputs": [
    {
     "name": "stdout",
     "output_type": "stream",
     "text": [
      "File full path : slider_crank_cfg.py\n"
     ]
    }
   ],
   "source": [
    "config_code = generators.configuration_codegen(config._config)\n",
    "config_code.write_code_file()"
   ]
  },
  {
   "cell_type": "markdown",
   "metadata": {},
   "source": [
    "### Generating Blender Script"
   ]
  },
  {
   "cell_type": "code",
   "execution_count": 26,
   "metadata": {},
   "outputs": [],
   "source": [
    "from smbd.utilities.blender import codegen"
   ]
  },
  {
   "cell_type": "code",
   "execution_count": 28,
   "metadata": {},
   "outputs": [],
   "source": [
    "blender_code = script_generator(config._config)\n",
    "blender_code.write_code_file()"
   ]
  },
  {
   "cell_type": "markdown",
   "metadata": {},
   "source": [
    "---------------------------------------------------------------\n",
    "---------------------------------------------------------------"
   ]
  },
  {
   "cell_type": "markdown",
   "metadata": {},
   "source": [
    "## **NUMERICAL SIMULATION**\n",
    "---------------------------"
   ]
  },
  {
   "cell_type": "markdown",
   "metadata": {},
   "source": [
    "The **numerical simulation** step is also a straight forward one. We start by importing helper libraries like **numpy** and **pandas**, then we import the ```multibody_system``` class and ```simulation``` class that will be used to create a numerical system and a simulation instance respectively. And finally we import the generated code files from the previous step.\n",
    "\n",
    "The steps then can be summarized as follows:\n",
    "1. Create a numerical model instance by passing the generated topology code to the ```multibody_system``` class.\n",
    "2. Make the configuration of that instance refers to the generated configuration code.\n",
    "3. Setting the numerical data of the configuration, either directly here or via filling in the generated csv file.\n",
    "4. Setting the **user-defined functions** that will be used for the actuators.\n",
    "5. Creating a **simulation instance**, set the desired time-sampling and run the simulation.\n",
    "6. Plotting the results."
   ]
  },
  {
   "cell_type": "markdown",
   "metadata": {
    "colab_type": "text",
    "id": "w-7fcrPBjUie"
   },
   "source": [
    "###  Imports"
   ]
  },
  {
   "cell_type": "code",
   "execution_count": 7,
   "metadata": {},
   "outputs": [],
   "source": [
    "import numpy as np\n",
    "import pandas as pd"
   ]
  },
  {
   "cell_type": "code",
   "execution_count": 8,
   "metadata": {},
   "outputs": [],
   "source": [
    "from smbd.numenv.python.interfaces.scripting import multibody_system, simulation"
   ]
  },
  {
   "cell_type": "code",
   "execution_count": 9,
   "metadata": {},
   "outputs": [],
   "source": [
    "import slider_crank, slider_crank_cfg"
   ]
  },
  {
   "cell_type": "markdown",
   "metadata": {
    "colab_type": "text",
    "id": "vkHoR9CCjb6u"
   },
   "source": [
    "### Creating Numerical Model"
   ]
  },
  {
   "cell_type": "code",
   "execution_count": 10,
   "metadata": {},
   "outputs": [],
   "source": [
    "num_model = multibody_system(slider_crank)\n",
    "num_model.topology.config = slider_crank_cfg.configuration()"
   ]
  },
  {
   "cell_type": "markdown",
   "metadata": {
    "colab_type": "text",
    "id": "85ZRAWmRjitu"
   },
   "source": [
    "### Setting Configuration Numerical Data"
   ]
  },
  {
   "cell_type": "code",
   "execution_count": 11,
   "metadata": {},
   "outputs": [],
   "source": [
    "inputs_df = pd.read_csv('csv_files/slider_crank_cfg.csv', index_col=0)"
   ]
  },
  {
   "cell_type": "code",
   "execution_count": 48,
   "metadata": {},
   "outputs": [],
   "source": [
    "inputs_df.loc['P_ground'] = [1, 0, 0, 0]\n",
    "\n",
    "inputs_df.loc['hps_a'] =  [0, 100, 120, 0]\n",
    "inputs_df.loc['hps_b'] =  [0, 100, 200, 0]\n",
    "inputs_df.loc['hps_c'] =  [200, 0, 0, 0]\n",
    "inputs_df.loc['hps_d'] =  [200, 0, 0, 0]\n",
    "\n",
    "inputs_df.loc['hps_s1'] =  [180, 0, 0, 0]\n",
    "inputs_df.loc['hps_s2'] =  [220, 0, 0, 0]\n",
    "\n",
    "inputs_df.loc['vcs_x'] = [1,0,0,0]\n",
    "inputs_df.loc['vcs_y'] = [0,1,0,0]\n",
    "inputs_df.loc['vcs_z'] = [0,0,1,0]\n",
    "\n",
    "inputs_df.loc['s_links_ro'] = [4.5 ,0,0,0]\n",
    "inputs_df.loc['s_block_ro'] = [25,0,0,0]"
   ]
  },
  {
   "cell_type": "code",
   "execution_count": 49,
   "metadata": {},
   "outputs": [],
   "source": [
    "# Saving the numerical data to a new csv file\n",
    "inputs_df.to_csv('csv_files/slider_crank_v1.csv')"
   ]
  },
  {
   "cell_type": "code",
   "execution_count": 50,
   "metadata": {},
   "outputs": [],
   "source": [
    "num_model.topology.config.load_from_dataframe(inputs_df)"
   ]
  },
  {
   "cell_type": "code",
   "execution_count": 51,
   "metadata": {},
   "outputs": [
    {
     "data": {
      "text/latex": [
       "$\\displaystyle 4.11522633744856$"
      ],
      "text/plain": [
       "4.11522633744856"
      ]
     },
     "execution_count": 51,
     "metadata": {},
     "output_type": "execute_result"
    }
   ],
   "source": [
    "num_model.topology.config.m_rbs_l3/num_model.topology.config.m_rbs_l2"
   ]
  },
  {
   "cell_type": "markdown",
   "metadata": {},
   "source": [
    "### Setting User Functions."
   ]
  },
  {
   "cell_type": "markdown",
   "metadata": {},
   "source": [
    "#### Actuators"
   ]
  },
  {
   "cell_type": "markdown",
   "metadata": {},
   "source": [
    "Here we set the actuation functions of the system actuators."
   ]
  },
  {
   "cell_type": "code",
   "execution_count": 52,
   "metadata": {},
   "outputs": [],
   "source": [
    "num_model.topology.config.UF_mcs_act = lambda t : np.deg2rad(360)*t"
   ]
  },
  {
   "cell_type": "markdown",
   "metadata": {
    "colab_type": "text",
    "id": "APxcuvdMjq4-"
   },
   "source": [
    "### Creating Simulation Instance"
   ]
  },
  {
   "cell_type": "markdown",
   "metadata": {},
   "source": [
    "A simulation instance takes in three arguments, the simulation ```name```, the numerical ```model``` and the simulation ```typ```. The simulation ```typ``` argument should be either *kds* for kinematically driven systems or *dds* for dynamically driven systems. For our case, the system is fully defined kinematically, and therefore we will set the ```typ``` as *kds*."
   ]
  },
  {
   "cell_type": "code",
   "execution_count": 53,
   "metadata": {},
   "outputs": [
    {
     "name": "stdout",
     "output_type": "stream",
     "text": [
      "\n",
      "Running System Kinematic Analysis:\n",
      "Progress: [=========================] 100%, (99/99) steps."
     ]
    }
   ],
   "source": [
    "sim1 = simulation('sim1', num_model, 'kds')\n",
    "sim1.set_time_array(1, 100)\n",
    "sim1.solve()"
   ]
  },
  {
   "cell_type": "code",
   "execution_count": 54,
   "metadata": {},
   "outputs": [
    {
     "data": {
      "text/plain": [
       "<matplotlib.axes._subplots.AxesSubplot at 0x7fb90e193f98>"
      ]
     },
     "execution_count": 54,
     "metadata": {},
     "output_type": "execute_result"
    },
    {
     "data": {
      "image/png": "[encoded data removed]",
      "text/plain": [
       "<Figure size 720x288 with 1 Axes>"
      ]
     },
     "metadata": {
      "needs_background": "light"
     },
     "output_type": "display_data"
    },
    {
     "data": {
      "image/png": "[encoded data removed]",
      "text/plain": [
       "<Figure size 720x288 with 1 Axes>"
      ]
     },
     "metadata": {
      "needs_background": "light"
     },
     "output_type": "display_data"
    },
    {
     "data": {
      "image/png": "[encoded data removed]",
      "text/plain": [
       "<Figure size 720x288 with 1 Axes>"
      ]
     },
     "metadata": {
      "needs_background": "light"
     },
     "output_type": "display_data"
    },
    {
     "data": {
      "image/png": "[encoded data removed]",
      "text/plain": [
       "<Figure size 720x288 with 1 Axes>"
      ]
     },
     "metadata": {
      "needs_background": "light"
     },
     "output_type": "display_data"
    },
    {
     "data": {
      "image/png": "[encoded data removed]",
      "text/plain": [
       "<Figure size 720x288 with 1 Axes>"
      ]
     },
     "metadata": {
      "needs_background": "light"
     },
     "output_type": "display_data"
    },
    {
     "data": {
      "image/png": "[encoded data removed]",
      "text/plain": [
       "<Figure size 720x288 with 1 Axes>"
      ]
     },
     "metadata": {
      "needs_background": "light"
     },
     "output_type": "display_data"
    }
   ],
   "source": [
    "sim1.soln.pos_dataframe.plot(x='time', y='rbs_l1.z', grid=True, figsize=(10,4))\n",
    "sim1.soln.vel_dataframe.plot(x='time', y='rbs_l1.z', grid=True, figsize=(10,4))\n",
    "sim1.soln.acc_dataframe.plot(x='time', y='rbs_l1.z', grid=True, figsize=(10,4))\n",
    "\n",
    "sim1.soln.pos_dataframe.plot(x='time', y='rbs_l3.x', grid=True, figsize=(10,4))\n",
    "sim1.soln.vel_dataframe.plot(x='time', y='rbs_l3.x', grid=True, figsize=(10,4))\n",
    "sim1.soln.acc_dataframe.plot(x='time', y='rbs_l3.x', grid=True, figsize=(10,4))\n"
   ]
  },
  {
   "cell_type": "markdown",
   "metadata": {},
   "source": [
    "### Evaluating System Reactions"
   ]
  },
  {
   "cell_type": "markdown",
   "metadata": {},
   "source": [
    "Here we take the simulation a step further by making it an inverse dynamics problem and evaluating the reactions resulted due the imposed constraints, either by joints or actuators. This step is only valid if you have defined the numerical values of the inertia properties of the system."
   ]
  },
  {
   "cell_type": "code",
   "execution_count": 55,
   "metadata": {},
   "outputs": [
    {
     "name": "stdout",
     "output_type": "stream",
     "text": [
      "\n",
      "Evaluating System Constraints Reactions:\n",
      "Progress: [=========================] 100%, (100/100) steps."
     ]
    }
   ],
   "source": [
    "sim1.eval_reactions()"
   ]
  },
  {
   "cell_type": "code",
   "execution_count": 57,
   "metadata": {},
   "outputs": [
    {
     "data": {
      "text/plain": [
       "<matplotlib.axes._subplots.AxesSubplot at 0x7fb90e045198>"
      ]
     },
     "execution_count": 57,
     "metadata": {},
     "output_type": "execute_result"
    },
    {
     "data": {
      "image/png": "[encoded data removed]",
      "text/plain": [
       "<Figure size 720x288 with 1 Axes>"
      ]
     },
     "metadata": {
      "needs_background": "light"
     },
     "output_type": "display_data"
    }
   ],
   "source": [
    "sim1.soln.reactions_dataframe.plot(x='time', y=['T_ground_mcs_act.x','T_ground_jcs_a.x'],\n",
    "                                   grid=True, figsize=(10,4))"
   ]
  },
  {
   "cell_type": "code",
   "execution_count": null,
   "metadata": {},
   "outputs": [],
   "source": []
  }
 ],
 "metadata": {
  "kernelspec": {
   "display_name": "Python 3",
   "language": "python",
   "name": "python3"
  },
  "language_info": {
   "codemirror_mode": {
    "name": "ipython",
    "version": 3
   },
   "file_extension": ".py",
   "mimetype": "text/x-python",
   "name": "python",
   "nbconvert_exporter": "python",
   "pygments_lexer": "ipython3",
   "version": "3.7.3"
  }
 },
 "nbformat": 4,
 "nbformat_minor": 2
}
