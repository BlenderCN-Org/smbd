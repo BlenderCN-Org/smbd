{
 "cells": [
  {
   "cell_type": "markdown",
   "metadata": {},
   "source": [
    "# SYMBOLIC STUDY\n",
    "## **SPATIAL SLIDER CRANK**\n",
    "----------------"
   ]
  },
  {
   "cell_type": "markdown",
   "metadata": {},
   "source": [
    "### SYSTEM DISCRIPTION\n",
    "---------------------"
   ]
  },
  {
   "cell_type": "markdown",
   "metadata": {},
   "source": [
    "_Double click to write a discription here ..._"
   ]
  },
  {
   "cell_type": "markdown",
   "metadata": {},
   "source": [
    "-----------------------------------------------"
   ]
  },
  {
   "cell_type": "code",
   "execution_count": 1,
   "metadata": {},
   "outputs": [],
   "source": [
    "import sys\n",
    "pkg_path = '/home/khaledghobashy/Documents/asurt_cdt_symbolic'\n",
    "sys.path.append(pkg_path)"
   ]
  },
  {
   "cell_type": "code",
   "execution_count": 2,
   "metadata": {},
   "outputs": [],
   "source": [
    "project_dir = '/home/khaledghobashy/Documents/asurt_cdt_projects/asurt_projects'"
   ]
  },
  {
   "cell_type": "code",
   "execution_count": 3,
   "metadata": {},
   "outputs": [],
   "source": [
    "import asurt.interfaces.scripting as sui"
   ]
  },
  {
   "cell_type": "markdown",
   "metadata": {},
   "source": [
    "## SYSTEM TOPOLOGY\n",
    "-----------------"
   ]
  },
  {
   "cell_type": "code",
   "execution_count": 4,
   "metadata": {},
   "outputs": [],
   "source": [
    "model = sui.standalone_topology('spatial_slider_crank')"
   ]
  },
  {
   "cell_type": "markdown",
   "metadata": {},
   "source": [
    "### ADDING SYSTEM BODIES"
   ]
  },
  {
   "cell_type": "code",
   "execution_count": 5,
   "metadata": {},
   "outputs": [],
   "source": [
    "model.add_body('crank')\n",
    "model.add_body('conct')\n",
    "model.add_body('slider')"
   ]
  },
  {
   "cell_type": "markdown",
   "metadata": {},
   "source": [
    "### ADDING SYSTEM JOINTS"
   ]
  },
  {
   "cell_type": "code",
   "execution_count": 6,
   "metadata": {},
   "outputs": [],
   "source": [
    "model.add_joint.revolute('a', 'rbs_crank', 'ground')\n",
    "model.add_joint.spherical('b', 'rbs_crank', 'rbs_conct')\n",
    "model.add_joint.universal('c', 'rbs_conct', 'rbs_slider')\n",
    "model.add_joint.translational('d', 'rbs_slider', 'ground')"
   ]
  },
  {
   "cell_type": "markdown",
   "metadata": {},
   "source": [
    "### ADDING SYSTEM ACTUATORS"
   ]
  },
  {
   "cell_type": "code",
   "execution_count": 7,
   "metadata": {},
   "outputs": [],
   "source": [
    "model.add_actuator.rotational_actuator('act', 'jcs_a')"
   ]
  },
  {
   "cell_type": "markdown",
   "metadata": {},
   "source": [
    "### ADDING SYSTEM FORCES"
   ]
  },
  {
   "cell_type": "code",
   "execution_count": null,
   "metadata": {},
   "outputs": [],
   "source": [
    "#model.add_force.internal_force('force_name', 'body_1', 'body_2', mirror=False)"
   ]
  },
  {
   "cell_type": "markdown",
   "metadata": {},
   "source": [
    "### ASSEMBLING AND SAVING SYSTEM"
   ]
  },
  {
   "cell_type": "code",
   "execution_count": 8,
   "metadata": {},
   "outputs": [],
   "source": [
    "model.assemble_model()\n",
    "model.save()"
   ]
  },
  {
   "cell_type": "code",
   "execution_count": 9,
   "metadata": {},
   "outputs": [
    {
     "name": "stdout",
     "output_type": "stream",
     "text": [
      "File full path : /home/khaledghobashy/Documents/asurt_cdt_projects/asurt_projects/numenv/python/models/standalones/spatial_slider_crank.py\n"
     ]
    }
   ],
   "source": [
    "model.write_python_code(project_dir)"
   ]
  },
  {
   "cell_type": "code",
   "execution_count": 11,
   "metadata": {},
   "outputs": [
    {
     "data": {
      "text/latex": [
       "$$\\left[\\begin{matrix}-{R_{ground}} + {A({P_{rbs_crank}})} {\\bar{u}^{rbs_crank}_{jcs_a}} - {A({P_{ground}})} {\\bar{u}^{ground}_{jcs_a}} + {R_{rbs_crank}}\\\\\\left({\\hat{i}_{{\\bar{M}^{rbs_crank}_{jcs_a}}}}\\right)^T \\left({A({P_{rbs_crank}})}\\right)^T {A({P_{ground}})} {\\hat{k}_{{\\bar{M}^{ground}_{jcs_a}}}}\\\\\\left({\\hat{j}_{{\\bar{M}^{rbs_crank}_{jcs_a}}}}\\right)^T \\left({A({P_{rbs_crank}})}\\right)^T {A({P_{ground}})} {\\hat{k}_{{\\bar{M}^{ground}_{jcs_a}}}}\\\\- \\sin{\\left (\\operatorname{AF_{jcs a}}{\\left (t \\right )} \\right )} \\left({\\hat{i}_{{\\bar{M}^{rbs_crank}_{jcs_a}}}}\\right)^T \\left({A({P_{rbs_crank}})}\\right)^T {A({P_{ground}})} {\\hat{i}_{{\\bar{M}^{ground}_{jcs_a}}}} + \\cos{\\left (\\operatorname{AF_{jcs a}}{\\left (t \\right )} \\right )} \\left({\\hat{j}_{{\\bar{M}^{rbs_crank}_{jcs_a}}}}\\right)^T \\left({A({P_{rbs_crank}})}\\right)^T {A({P_{ground}})} {\\hat{i}_{{\\bar{M}^{ground}_{jcs_a}}}}\\\\-{R_{rbs_conct}} + {A({P_{rbs_crank}})} {\\bar{u}^{rbs_crank}_{jcs_b}} - {A({P_{rbs_conct}})} {\\bar{u}^{rbs_conct}_{jcs_b}} + {R_{rbs_crank}}\\\\-{R_{rbs_slider}} + {A({P_{rbs_conct}})} {\\bar{u}^{rbs_conct}_{jcs_c}} - {A({P_{rbs_slider}})} {\\bar{u}^{rbs_slider}_{jcs_c}} + {R_{rbs_conct}}\\\\\\left({\\hat{i}_{{\\bar{M}^{rbs_conct}_{jcs_c}}}}\\right)^T \\left({A({P_{rbs_conct}})}\\right)^T {A({P_{rbs_slider}})} {\\hat{i}_{{\\bar{M}^{rbs_slider}_{jcs_c}}}}\\\\\\left({\\hat{i}_{{\\bar{M}^{rbs_slider}_{jcs_d}}}}\\right)^T \\left({A({P_{rbs_slider}})}\\right)^T {A({P_{ground}})} {\\hat{k}_{{\\bar{M}^{ground}_{jcs_d}}}}\\\\\\left({\\hat{j}_{{\\bar{M}^{rbs_slider}_{jcs_d}}}}\\right)^T \\left({A({P_{rbs_slider}})}\\right)^T {A({P_{ground}})} {\\hat{k}_{{\\bar{M}^{ground}_{jcs_d}}}}\\\\\\left({\\hat{i}_{{\\bar{M}^{rbs_slider}_{jcs_d}}}}\\right)^T \\left({A({P_{rbs_slider}})}\\right)^T \\left(-{R_{ground}} + {A({P_{rbs_slider}})} {\\bar{u}^{rbs_slider}_{jcs_d}} - {A({P_{ground}})} {\\bar{u}^{ground}_{jcs_d}} + {R_{rbs_slider}}\\right)\\\\\\left({\\hat{j}_{{\\bar{M}^{rbs_slider}_{jcs_d}}}}\\right)^T \\left({A({P_{rbs_slider}})}\\right)^T \\left(-{R_{ground}} + {A({P_{rbs_slider}})} {\\bar{u}^{rbs_slider}_{jcs_d}} - {A({P_{ground}})} {\\bar{u}^{ground}_{jcs_d}} + {R_{rbs_slider}}\\right)\\\\\\left({\\hat{i}_{{\\bar{M}^{rbs_slider}_{jcs_d}}}}\\right)^T \\left({A({P_{rbs_slider}})}\\right)^T {A({P_{ground}})} {\\hat{j}_{{\\bar{M}^{ground}_{jcs_d}}}}\\\\{R_{ground}}\\\\-{Pg_{ground}} + {P_{ground}}\\\\-\\mathbb{I} + {P_{rbs_crank}}^T {P_{rbs_crank}}\\\\-\\mathbb{I} + {P_{rbs_conct}}^T {P_{rbs_conct}}\\\\-\\mathbb{I} + {P_{rbs_slider}}^T {P_{rbs_slider}}\\end{matrix}\\right]$$"
      ],
      "text/plain": [
       "Matrix([\n",
       "[                                                                                                           -{R_{ground}} + A({P_{rbs_crank}})*{\\bar{u}^{rbs_crank}_{jcs_a}} - A({P_{ground}})*{\\bar{u}^{ground}_{jcs_a}} + {R_{rbs_crank}}],\n",
       "[                                                                                                                                         Mbar_rbs_crank_jcs_a[:,(0, 1)].T*A({P_{rbs_crank}}).T*A({P_{ground}})*Mbar_ground_jcs_a[:,(2, 3)]],\n",
       "[                                                                                                                                         Mbar_rbs_crank_jcs_a[:,(1, 2)].T*A({P_{rbs_crank}}).T*A({P_{ground}})*Mbar_ground_jcs_a[:,(2, 3)]],\n",
       "[(-sin(AF_jcs_a(t)))*Mbar_rbs_crank_jcs_a[:,(0, 1)].T*A({P_{rbs_crank}}).T*A({P_{ground}})*Mbar_ground_jcs_a[:,(0, 1)] + cos(AF_jcs_a(t))*Mbar_rbs_crank_jcs_a[:,(1, 2)].T*A({P_{rbs_crank}}).T*A({P_{ground}})*Mbar_ground_jcs_a[:,(0, 1)]],\n",
       "[                                                                                                  -{R_{rbs_conct}} + A({P_{rbs_crank}})*{\\bar{u}^{rbs_crank}_{jcs_b}} - A({P_{rbs_conct}})*{\\bar{u}^{rbs_conct}_{jcs_b}} + {R_{rbs_crank}}],\n",
       "[                                                                                               -{R_{rbs_slider}} + A({P_{rbs_conct}})*{\\bar{u}^{rbs_conct}_{jcs_c}} - A({P_{rbs_slider}})*{\\bar{u}^{rbs_slider}_{jcs_c}} + {R_{rbs_conct}}],\n",
       "[                                                                                                                                 Mbar_rbs_conct_jcs_c[:,(0, 1)].T*A({P_{rbs_conct}}).T*A({P_{rbs_slider}})*Mbar_rbs_slider_jcs_c[:,(0, 1)]],\n",
       "[                                                                                                                                       Mbar_rbs_slider_jcs_d[:,(0, 1)].T*A({P_{rbs_slider}}).T*A({P_{ground}})*Mbar_ground_jcs_d[:,(2, 3)]],\n",
       "[                                                                                                                                       Mbar_rbs_slider_jcs_d[:,(1, 2)].T*A({P_{rbs_slider}}).T*A({P_{ground}})*Mbar_ground_jcs_d[:,(2, 3)]],\n",
       "[                                              Mbar_rbs_slider_jcs_d[:,(0, 1)].T*A({P_{rbs_slider}}).T*(-{R_{ground}} + A({P_{rbs_slider}})*{\\bar{u}^{rbs_slider}_{jcs_d}} - A({P_{ground}})*{\\bar{u}^{ground}_{jcs_d}} + {R_{rbs_slider}})],\n",
       "[                                              Mbar_rbs_slider_jcs_d[:,(1, 2)].T*A({P_{rbs_slider}}).T*(-{R_{ground}} + A({P_{rbs_slider}})*{\\bar{u}^{rbs_slider}_{jcs_d}} - A({P_{ground}})*{\\bar{u}^{ground}_{jcs_d}} + {R_{rbs_slider}})],\n",
       "[                                                                                                                                       Mbar_rbs_slider_jcs_d[:,(0, 1)].T*A({P_{rbs_slider}}).T*A({P_{ground}})*Mbar_ground_jcs_d[:,(1, 2)]],\n",
       "[                                                                                                                                                                                                                              {R_{ground}}],\n",
       "[                                                                                                                                                                                                             -{Pg_{ground}} + {P_{ground}}],\n",
       "[                                                                                                                                                                                                    -I + {P_{rbs_crank}}.T*{P_{rbs_crank}}],\n",
       "[                                                                                                                                                                                                    -I + {P_{rbs_conct}}.T*{P_{rbs_conct}}],\n",
       "[                                                                                                                                                                                                  -I + {P_{rbs_slider}}.T*{P_{rbs_slider}}]])"
      ]
     },
     "execution_count": 11,
     "metadata": {},
     "output_type": "execute_result"
    }
   ],
   "source": [
    "model._mbs.pos_equations"
   ]
  },
  {
   "cell_type": "markdown",
   "metadata": {},
   "source": [
    "## SYSTEM CONFIGURATION\n",
    "-----------------------"
   ]
  },
  {
   "cell_type": "code",
   "execution_count": 12,
   "metadata": {},
   "outputs": [],
   "source": [
    "config_name = 'spatial_slider_crank_cfg'\n",
    "config = sui.configuration(config_name, model)"
   ]
  },
  {
   "cell_type": "markdown",
   "metadata": {},
   "source": [
    "### CONFIGURATION INPUTS"
   ]
  },
  {
   "cell_type": "code",
   "execution_count": 13,
   "metadata": {},
   "outputs": [],
   "source": [
    "config.add_point.UserInput('a')\n",
    "config.add_point.UserInput('b')\n",
    "config.add_point.UserInput('c')\n",
    "config.add_point.UserInput('d')\n",
    "\n",
    "config.add_vector.UserInput('v')"
   ]
  },
  {
   "cell_type": "markdown",
   "metadata": {},
   "source": [
    "### CONFIGURATION RELATIONS"
   ]
  },
  {
   "cell_type": "code",
   "execution_count": 14,
   "metadata": {},
   "outputs": [],
   "source": [
    "config.add_relation.Equal_to('pt1_jcs_a', ('hps_a',))\n",
    "\n",
    "config.add_relation.Equal_to('pt1_jcs_b', ('hps_b',))\n",
    "\n",
    "config.add_relation.Equal_to('pt1_jcs_c', ('hps_c',))\n",
    "config.add_relation.Oriented('ax1_jcs_c', ('hps_c', 'hps_b'))\n",
    "config.add_relation.Equal_to('ax2_jcs_c', ('vcs_v',))\n",
    "\n",
    "config.add_relation.Equal_to('pt1_jcs_d', ('hps_d',))\n",
    "config.add_relation.Equal_to('ax1_jcs_d', ('vcs_v',))"
   ]
  },
  {
   "cell_type": "markdown",
   "metadata": {},
   "source": [
    "### CONFIGURATION GEOMETRIES"
   ]
  },
  {
   "cell_type": "code",
   "execution_count": 15,
   "metadata": {},
   "outputs": [],
   "source": [
    "config.add_scalar.UserInput('crank_raduis')\n",
    "config.add_scalar.UserInput('conct_raduis')\n",
    "config.add_scalar.UserInput('slider_raduis')"
   ]
  },
  {
   "cell_type": "code",
   "execution_count": 16,
   "metadata": {},
   "outputs": [],
   "source": [
    "config.add_point.UserInput('s1')\n",
    "config.add_point.UserInput('s2')"
   ]
  },
  {
   "cell_type": "code",
   "execution_count": 17,
   "metadata": {},
   "outputs": [],
   "source": [
    "config.add_geometry.Cylinder_Geometry('crank', ('hps_a', 'hps_b', 's_crank_raduis'))\n",
    "config.assign_geometry_to_body('rbs_crank', 'gms_crank')\n",
    "\n",
    "config.add_geometry.Cylinder_Geometry('conct', ('hps_b', 'hps_c', 's_conct_raduis'))\n",
    "config.assign_geometry_to_body('rbs_conct', 'gms_conct')\n",
    "\n",
    "config.add_geometry.Cylinder_Geometry('slider', ('hps_s1', 'hps_s2', 's_slider_raduis'))\n",
    "config.assign_geometry_to_body('rbs_slider', 'gms_slider')"
   ]
  },
  {
   "cell_type": "markdown",
   "metadata": {},
   "source": [
    "### ASSEMBLING AND SAVING CONFIGURATION"
   ]
  },
  {
   "cell_type": "code",
   "execution_count": 18,
   "metadata": {},
   "outputs": [],
   "source": [
    "config.assemble_model()\n",
    "config.extract_inputs_to_csv()"
   ]
  },
  {
   "cell_type": "code",
   "execution_count": 19,
   "metadata": {},
   "outputs": [
    {
     "name": "stdout",
     "output_type": "stream",
     "text": [
      "File full path : /home/khaledghobashy/Documents/asurt_cdt_projects/asurt_projects/numenv/python/models/configurations/spatial_slider_crank_cfg.py\n"
     ]
    }
   ],
   "source": [
    "config.write_python_code(project_dir)"
   ]
  },
  {
   "cell_type": "code",
   "execution_count": 20,
   "metadata": {},
   "outputs": [],
   "source": [
    "config.write_blender_script(project_dir)"
   ]
  },
  {
   "cell_type": "code",
   "execution_count": null,
   "metadata": {},
   "outputs": [],
   "source": []
  }
 ],
 "metadata": {
  "kernelspec": {
   "display_name": "Python 3",
   "language": "python",
   "name": "python3"
  },
  "language_info": {
   "codemirror_mode": {
    "name": "ipython",
    "version": 3
   },
   "file_extension": ".py",
   "mimetype": "text/x-python",
   "name": "python",
   "nbconvert_exporter": "python",
   "pygments_lexer": "ipython3",
   "version": "3.7.3"
  }
 },
 "nbformat": 4,
 "nbformat_minor": 2
}
