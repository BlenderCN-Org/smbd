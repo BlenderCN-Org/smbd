{
 "cells": [
  {
   "cell_type": "markdown",
   "metadata": {
    "colab_type": "text",
    "id": "dANNzOOKHN94"
   },
   "source": [
    "# STANDALONE STUDY\n",
    "## **STEWART GOUGH PLATFORM**\n",
    "-----------------------------"
   ]
  },
  {
   "cell_type": "markdown",
   "metadata": {},
   "source": [
    "### SYSTEM DISCRIPTION\n",
    "----------------------"
   ]
  },
  {
   "cell_type": "markdown",
   "metadata": {},
   "source": [
    "*Discription here* "
   ]
  },
  {
   "cell_type": "markdown",
   "metadata": {},
   "source": [
    "---------------------------"
   ]
  },
  {
   "cell_type": "markdown",
   "metadata": {},
   "source": [
    "### **NOTE**\n",
    "#### **Adding package path to system path and creating needed directories.**\n",
    "The current ```pkg_path``` variable is where I have the repository on my machine. You should change it to where you cloned the repository on your machine."
   ]
  },
  {
   "cell_type": "markdown",
   "metadata": {},
   "source": [
    "-----------------------------------------------"
   ]
  },
  {
   "cell_type": "code",
   "execution_count": 1,
   "metadata": {},
   "outputs": [],
   "source": [
    "pkg_path = '/home/khaledghobashy/Documents/smbd'"
   ]
  },
  {
   "cell_type": "code",
   "execution_count": 2,
   "metadata": {},
   "outputs": [],
   "source": [
    "import sys\n",
    "sys.path.append(pkg_path)"
   ]
  },
  {
   "cell_type": "code",
   "execution_count": 3,
   "metadata": {},
   "outputs": [],
   "source": [
    "import os\n",
    "\n",
    "def create_project_dirs():\n",
    "    dirs = os.listdir()\n",
    "    for d in ['csv_files', 'results']:\n",
    "        if d not in dirs:\n",
    "            os.mkdir(d)\n",
    "            print('Created Directory %s'%d)\n",
    "    if '__init__.py' not in dirs:\n",
    "        with open('__init__.py', 'w') as file:\n",
    "            file.write('#')\n",
    "        print('Created __init__.py file')\n",
    "    "
   ]
  },
  {
   "cell_type": "code",
   "execution_count": 4,
   "metadata": {},
   "outputs": [],
   "source": [
    "create_project_dirs()"
   ]
  },
  {
   "cell_type": "markdown",
   "metadata": {
    "colab_type": "text",
    "id": "Mm3EcElJHVbH"
   },
   "source": [
    "## SYMBOLIC TOPOLOGY"
   ]
  },
  {
   "cell_type": "code",
   "execution_count": 5,
   "metadata": {
    "colab": {},
    "colab_type": "code",
    "id": "Ftrti9HXHSDo"
   },
   "outputs": [],
   "source": [
    "from smbd.interfaces.scripting import standalone_topology"
   ]
  },
  {
   "cell_type": "code",
   "execution_count": 6,
   "metadata": {
    "colab": {},
    "colab_type": "code",
    "id": "pF6coF54IJa9"
   },
   "outputs": [],
   "source": [
    "sym_model = standalone_topology('stewart_gough')"
   ]
  },
  {
   "cell_type": "markdown",
   "metadata": {
    "colab_type": "text",
    "id": "I3_NzeotHb8_"
   },
   "source": [
    "### ADDING BODIES"
   ]
  },
  {
   "cell_type": "code",
   "execution_count": 7,
   "metadata": {
    "colab": {},
    "colab_type": "code",
    "id": "uYmGuMd-HUy3"
   },
   "outputs": [],
   "source": [
    "sym_model.add_body('table')\n",
    "\n",
    "sym_model.add_body('link_1')\n",
    "sym_model.add_body('link_2')\n",
    "sym_model.add_body('link_3')\n",
    "\n",
    "sym_model.add_body('rocker_1')\n",
    "sym_model.add_body('rocker_2')\n",
    "sym_model.add_body('rocker_3')\n"
   ]
  },
  {
   "cell_type": "markdown",
   "metadata": {
    "colab_type": "text",
    "id": "yuEYCwcaIP6F"
   },
   "source": [
    "### ADDING JOINTS"
   ]
  },
  {
   "cell_type": "code",
   "execution_count": 8,
   "metadata": {
    "colab": {},
    "colab_type": "code",
    "id": "PYyJcrdSIQrs"
   },
   "outputs": [],
   "source": [
    "sym_model.add_joint.revolute('rev_1', 'ground', 'rbs_rocker_1')\n",
    "sym_model.add_joint.revolute('rev_2', 'ground', 'rbs_rocker_2')\n",
    "sym_model.add_joint.revolute('rev_3', 'ground', 'rbs_rocker_3')\n",
    "\n",
    "sym_model.add_joint.spherical('bottom_sph_1', 'rbs_rocker_1', 'rbs_link_1')\n",
    "sym_model.add_joint.spherical('bottom_sph_2', 'rbs_rocker_2', 'rbs_link_2')\n",
    "sym_model.add_joint.spherical('bottom_sph_3', 'rbs_rocker_3', 'rbs_link_3')\n",
    "\n",
    "sym_model.add_joint.universal('upper_uni_1', 'rbs_link_1', 'rbs_table')\n",
    "sym_model.add_joint.universal('upper_uni_2', 'rbs_link_2', 'rbs_table')\n",
    "sym_model.add_joint.universal('upper_uni_3', 'rbs_link_3', 'rbs_table')\n",
    "\n",
    "sym_model.add_joint.tripod('tripod', 'rbs_table', 'ground')"
   ]
  },
  {
   "cell_type": "markdown",
   "metadata": {
    "colab_type": "text",
    "id": "vDl7Nw2wITWk"
   },
   "source": [
    "### ADDING ACTUATORS"
   ]
  },
  {
   "cell_type": "code",
   "execution_count": 9,
   "metadata": {
    "colab": {},
    "colab_type": "code",
    "id": "yrGA1xURIT-0"
   },
   "outputs": [],
   "source": [
    "sym_model.add_actuator.rotational_actuator('act_1', 'jcs_rev_1')\n",
    "sym_model.add_actuator.rotational_actuator('act_2', 'jcs_rev_2')\n",
    "sym_model.add_actuator.rotational_actuator('act_3', 'jcs_rev_3')\n"
   ]
  },
  {
   "cell_type": "markdown",
   "metadata": {
    "colab_type": "text",
    "id": "lg7CGjQZJpDR"
   },
   "source": [
    "### ASSEMBLING"
   ]
  },
  {
   "cell_type": "code",
   "execution_count": 10,
   "metadata": {
    "colab": {},
    "colab_type": "code",
    "id": "9XkmdRCmJv0I"
   },
   "outputs": [],
   "source": [
    "sym_model.assemble_model()"
   ]
  },
  {
   "cell_type": "markdown",
   "metadata": {
    "colab_type": "text",
    "id": "goKtOBuLd1Kh"
   },
   "source": [
    "### SYMBOLIC CHARACTERISTICS "
   ]
  },
  {
   "cell_type": "code",
   "execution_count": 11,
   "metadata": {
    "colab": {
     "base_uri": "https://localhost:8080/",
     "height": 463
    },
    "colab_type": "code",
    "executionInfo": {
     "elapsed": 945,
     "status": "ok",
     "timestamp": 1557736740240,
     "user": {
      "displayName": "Khaled Ghobashy",
      "photoUrl": "",
      "userId": "05113177637222565845"
     },
     "user_tz": -120
    },
    "id": "JW3Y9sLMtPjD",
    "outputId": "afbc5380-578c-49c7-a515-ffd0a1019444"
   },
   "outputs": [
    {
     "data": {
      "image/png": "[encoded data removed]",
      "text/plain": [
       "<Figure size 720x432 with 1 Axes>"
      ]
     },
     "metadata": {},
     "output_type": "display_data"
    }
   ],
   "source": [
    "sym_model._mbs.draw_constraints_topology()"
   ]
  },
  {
   "cell_type": "code",
   "execution_count": 12,
   "metadata": {
    "colab": {},
    "colab_type": "code",
    "id": "3fBmDyF_eInM"
   },
   "outputs": [
    {
     "data": {
      "text/latex": [
       "$\\displaystyle \\left[\\begin{matrix}{A({P_{ground}})} {\\bar{u}^{ground}_{jcs_rev_1}} - {A({P_{rbs_rocker_1}})} {\\bar{u}^{rbs_rocker_1}_{jcs_rev_1}} + {R_{ground}} - {R_{rbs_rocker_1}}\\\\\\left({\\hat{i}_{{\\bar{M}^{ground}_{jcs_rev_1}}}}\\right)^{T} \\left({A({P_{ground}})}\\right)^{T} {A({P_{rbs_rocker_1}})} {\\hat{k}_{{\\bar{M}^{rbs_rocker_1}_{jcs_rev_1}}}}\\\\\\left({\\hat{j}_{{\\bar{M}^{ground}_{jcs_rev_1}}}}\\right)^{T} \\left({A({P_{ground}})}\\right)^{T} {A({P_{rbs_rocker_1}})} {\\hat{k}_{{\\bar{M}^{rbs_rocker_1}_{jcs_rev_1}}}}\\\\- \\sin{\\left(\\operatorname{AF_{jcs rev 1}}{\\left(t \\right)} \\right)} \\left({\\hat{i}_{{\\bar{M}^{ground}_{jcs_rev_1}}}}\\right)^{T} \\left({A({P_{ground}})}\\right)^{T} {A({P_{rbs_rocker_1}})} {\\hat{i}_{{\\bar{M}^{rbs_rocker_1}_{jcs_rev_1}}}} + \\cos{\\left(\\operatorname{AF_{jcs rev 1}}{\\left(t \\right)} \\right)} \\left({\\hat{j}_{{\\bar{M}^{ground}_{jcs_rev_1}}}}\\right)^{T} \\left({A({P_{ground}})}\\right)^{T} {A({P_{rbs_rocker_1}})} {\\hat{i}_{{\\bar{M}^{rbs_rocker_1}_{jcs_rev_1}}}}\\\\{A({P_{ground}})} {\\bar{u}^{ground}_{jcs_rev_2}} - {A({P_{rbs_rocker_2}})} {\\bar{u}^{rbs_rocker_2}_{jcs_rev_2}} + {R_{ground}} - {R_{rbs_rocker_2}}\\\\\\left({\\hat{i}_{{\\bar{M}^{ground}_{jcs_rev_2}}}}\\right)^{T} \\left({A({P_{ground}})}\\right)^{T} {A({P_{rbs_rocker_2}})} {\\hat{k}_{{\\bar{M}^{rbs_rocker_2}_{jcs_rev_2}}}}\\\\\\left({\\hat{j}_{{\\bar{M}^{ground}_{jcs_rev_2}}}}\\right)^{T} \\left({A({P_{ground}})}\\right)^{T} {A({P_{rbs_rocker_2}})} {\\hat{k}_{{\\bar{M}^{rbs_rocker_2}_{jcs_rev_2}}}}\\\\- \\sin{\\left(\\operatorname{AF_{jcs rev 2}}{\\left(t \\right)} \\right)} \\left({\\hat{i}_{{\\bar{M}^{ground}_{jcs_rev_2}}}}\\right)^{T} \\left({A({P_{ground}})}\\right)^{T} {A({P_{rbs_rocker_2}})} {\\hat{i}_{{\\bar{M}^{rbs_rocker_2}_{jcs_rev_2}}}} + \\cos{\\left(\\operatorname{AF_{jcs rev 2}}{\\left(t \\right)} \\right)} \\left({\\hat{j}_{{\\bar{M}^{ground}_{jcs_rev_2}}}}\\right)^{T} \\left({A({P_{ground}})}\\right)^{T} {A({P_{rbs_rocker_2}})} {\\hat{i}_{{\\bar{M}^{rbs_rocker_2}_{jcs_rev_2}}}}\\\\{A({P_{ground}})} {\\bar{u}^{ground}_{jcs_rev_3}} - {A({P_{rbs_rocker_3}})} {\\bar{u}^{rbs_rocker_3}_{jcs_rev_3}} + {R_{ground}} - {R_{rbs_rocker_3}}\\\\\\left({\\hat{i}_{{\\bar{M}^{ground}_{jcs_rev_3}}}}\\right)^{T} \\left({A({P_{ground}})}\\right)^{T} {A({P_{rbs_rocker_3}})} {\\hat{k}_{{\\bar{M}^{rbs_rocker_3}_{jcs_rev_3}}}}\\\\\\left({\\hat{j}_{{\\bar{M}^{ground}_{jcs_rev_3}}}}\\right)^{T} \\left({A({P_{ground}})}\\right)^{T} {A({P_{rbs_rocker_3}})} {\\hat{k}_{{\\bar{M}^{rbs_rocker_3}_{jcs_rev_3}}}}\\\\- \\sin{\\left(\\operatorname{AF_{jcs rev 3}}{\\left(t \\right)} \\right)} \\left({\\hat{i}_{{\\bar{M}^{ground}_{jcs_rev_3}}}}\\right)^{T} \\left({A({P_{ground}})}\\right)^{T} {A({P_{rbs_rocker_3}})} {\\hat{i}_{{\\bar{M}^{rbs_rocker_3}_{jcs_rev_3}}}} + \\cos{\\left(\\operatorname{AF_{jcs rev 3}}{\\left(t \\right)} \\right)} \\left({\\hat{j}_{{\\bar{M}^{ground}_{jcs_rev_3}}}}\\right)^{T} \\left({A({P_{ground}})}\\right)^{T} {A({P_{rbs_rocker_3}})} {\\hat{i}_{{\\bar{M}^{rbs_rocker_3}_{jcs_rev_3}}}}\\\\\\left({\\hat{i}_{{\\bar{M}^{rbs_table}_{jcs_tripod}}}}\\right)^{T} \\left({A({P_{rbs_table}})}\\right)^{T} {A({P_{ground}})} {\\hat{j}_{{\\bar{M}^{ground}_{jcs_tripod}}}}\\\\\\left({\\hat{i}_{{\\bar{M}^{rbs_table}_{jcs_tripod}}}}\\right)^{T} \\left({A({P_{rbs_table}})}\\right)^{T} \\left(- {A({P_{ground}})} {\\bar{u}^{ground}_{jcs_tripod}} + {A({P_{rbs_table}})} {\\bar{u}^{rbs_table}_{jcs_tripod}} - {R_{ground}} + {R_{rbs_table}}\\right)\\\\\\left({\\hat{j}_{{\\bar{M}^{rbs_table}_{jcs_tripod}}}}\\right)^{T} \\left({A({P_{rbs_table}})}\\right)^{T} \\left(- {A({P_{ground}})} {\\bar{u}^{ground}_{jcs_tripod}} + {A({P_{rbs_table}})} {\\bar{u}^{rbs_table}_{jcs_tripod}} - {R_{ground}} + {R_{rbs_table}}\\right)\\\\{A({P_{rbs_link_1}})} {\\bar{u}^{rbs_link_1}_{jcs_upper_uni_1}} - {A({P_{rbs_table}})} {\\bar{u}^{rbs_table}_{jcs_upper_uni_1}} + {R_{rbs_link_1}} - {R_{rbs_table}}\\\\\\left({\\hat{i}_{{\\bar{M}^{rbs_link_1}_{jcs_upper_uni_1}}}}\\right)^{T} \\left({A({P_{rbs_link_1}})}\\right)^{T} {A({P_{rbs_table}})} {\\hat{i}_{{\\bar{M}^{rbs_table}_{jcs_upper_uni_1}}}}\\\\{A({P_{rbs_link_2}})} {\\bar{u}^{rbs_link_2}_{jcs_upper_uni_2}} - {A({P_{rbs_table}})} {\\bar{u}^{rbs_table}_{jcs_upper_uni_2}} + {R_{rbs_link_2}} - {R_{rbs_table}}\\\\\\left({\\hat{i}_{{\\bar{M}^{rbs_link_2}_{jcs_upper_uni_2}}}}\\right)^{T} \\left({A({P_{rbs_link_2}})}\\right)^{T} {A({P_{rbs_table}})} {\\hat{i}_{{\\bar{M}^{rbs_table}_{jcs_upper_uni_2}}}}\\\\{A({P_{rbs_link_3}})} {\\bar{u}^{rbs_link_3}_{jcs_upper_uni_3}} - {A({P_{rbs_table}})} {\\bar{u}^{rbs_table}_{jcs_upper_uni_3}} + {R_{rbs_link_3}} - {R_{rbs_table}}\\\\\\left({\\hat{i}_{{\\bar{M}^{rbs_link_3}_{jcs_upper_uni_3}}}}\\right)^{T} \\left({A({P_{rbs_link_3}})}\\right)^{T} {A({P_{rbs_table}})} {\\hat{i}_{{\\bar{M}^{rbs_table}_{jcs_upper_uni_3}}}}\\\\- {A({P_{rbs_link_1}})} {\\bar{u}^{rbs_link_1}_{jcs_bottom_sph_1}} + {A({P_{rbs_rocker_1}})} {\\bar{u}^{rbs_rocker_1}_{jcs_bottom_sph_1}} - {R_{rbs_link_1}} + {R_{rbs_rocker_1}}\\\\- {A({P_{rbs_link_2}})} {\\bar{u}^{rbs_link_2}_{jcs_bottom_sph_2}} + {A({P_{rbs_rocker_2}})} {\\bar{u}^{rbs_rocker_2}_{jcs_bottom_sph_2}} - {R_{rbs_link_2}} + {R_{rbs_rocker_2}}\\\\- {A({P_{rbs_link_3}})} {\\bar{u}^{rbs_link_3}_{jcs_bottom_sph_3}} + {A({P_{rbs_rocker_3}})} {\\bar{u}^{rbs_rocker_3}_{jcs_bottom_sph_3}} - {R_{rbs_link_3}} + {R_{rbs_rocker_3}}\\\\{R_{ground}}\\\\{P_{ground}} - {Pg_{ground}}\\\\- \\mathbb{I} + {P_{rbs_table}}^{T} {P_{rbs_table}}\\\\- \\mathbb{I} + {P_{rbs_link_1}}^{T} {P_{rbs_link_1}}\\\\- \\mathbb{I} + {P_{rbs_link_2}}^{T} {P_{rbs_link_2}}\\\\- \\mathbb{I} + {P_{rbs_link_3}}^{T} {P_{rbs_link_3}}\\\\- \\mathbb{I} + {P_{rbs_rocker_1}}^{T} {P_{rbs_rocker_1}}\\\\- \\mathbb{I} + {P_{rbs_rocker_2}}^{T} {P_{rbs_rocker_2}}\\\\- \\mathbb{I} + {P_{rbs_rocker_3}}^{T} {P_{rbs_rocker_3}}\\end{matrix}\\right]$"
      ],
      "text/plain": [
       "Matrix([\n",
       "[                                                                                                                               A({P_{ground}})*{\\bar{u}^{ground}_{jcs_rev_1}} - A({P_{rbs_rocker_1}})*{\\bar{u}^{rbs_rocker_1}_{jcs_rev_1}} + {R_{ground}} - {R_{rbs_rocker_1}}],\n",
       "[                                                                                                                                                               Mbar_ground_jcs_rev_1[:,(0, 1)].T*A({P_{ground}}).T*A({P_{rbs_rocker_1}})*Mbar_rbs_rocker_1_jcs_rev_1[:,(2, 3)]],\n",
       "[                                                                                                                                                               Mbar_ground_jcs_rev_1[:,(1, 2)].T*A({P_{ground}}).T*A({P_{rbs_rocker_1}})*Mbar_rbs_rocker_1_jcs_rev_1[:,(2, 3)]],\n",
       "[(-sin(AF_jcs_rev_1(t)))*Mbar_ground_jcs_rev_1[:,(0, 1)].T*A({P_{ground}}).T*A({P_{rbs_rocker_1}})*Mbar_rbs_rocker_1_jcs_rev_1[:,(0, 1)] + cos(AF_jcs_rev_1(t))*Mbar_ground_jcs_rev_1[:,(1, 2)].T*A({P_{ground}}).T*A({P_{rbs_rocker_1}})*Mbar_rbs_rocker_1_jcs_rev_1[:,(0, 1)]],\n",
       "[                                                                                                                               A({P_{ground}})*{\\bar{u}^{ground}_{jcs_rev_2}} - A({P_{rbs_rocker_2}})*{\\bar{u}^{rbs_rocker_2}_{jcs_rev_2}} + {R_{ground}} - {R_{rbs_rocker_2}}],\n",
       "[                                                                                                                                                               Mbar_ground_jcs_rev_2[:,(0, 1)].T*A({P_{ground}}).T*A({P_{rbs_rocker_2}})*Mbar_rbs_rocker_2_jcs_rev_2[:,(2, 3)]],\n",
       "[                                                                                                                                                               Mbar_ground_jcs_rev_2[:,(1, 2)].T*A({P_{ground}}).T*A({P_{rbs_rocker_2}})*Mbar_rbs_rocker_2_jcs_rev_2[:,(2, 3)]],\n",
       "[(-sin(AF_jcs_rev_2(t)))*Mbar_ground_jcs_rev_2[:,(0, 1)].T*A({P_{ground}}).T*A({P_{rbs_rocker_2}})*Mbar_rbs_rocker_2_jcs_rev_2[:,(0, 1)] + cos(AF_jcs_rev_2(t))*Mbar_ground_jcs_rev_2[:,(1, 2)].T*A({P_{ground}}).T*A({P_{rbs_rocker_2}})*Mbar_rbs_rocker_2_jcs_rev_2[:,(0, 1)]],\n",
       "[                                                                                                                               A({P_{ground}})*{\\bar{u}^{ground}_{jcs_rev_3}} - A({P_{rbs_rocker_3}})*{\\bar{u}^{rbs_rocker_3}_{jcs_rev_3}} + {R_{ground}} - {R_{rbs_rocker_3}}],\n",
       "[                                                                                                                                                               Mbar_ground_jcs_rev_3[:,(0, 1)].T*A({P_{ground}}).T*A({P_{rbs_rocker_3}})*Mbar_rbs_rocker_3_jcs_rev_3[:,(2, 3)]],\n",
       "[                                                                                                                                                               Mbar_ground_jcs_rev_3[:,(1, 2)].T*A({P_{ground}}).T*A({P_{rbs_rocker_3}})*Mbar_rbs_rocker_3_jcs_rev_3[:,(2, 3)]],\n",
       "[(-sin(AF_jcs_rev_3(t)))*Mbar_ground_jcs_rev_3[:,(0, 1)].T*A({P_{ground}}).T*A({P_{rbs_rocker_3}})*Mbar_rbs_rocker_3_jcs_rev_3[:,(0, 1)] + cos(AF_jcs_rev_3(t))*Mbar_ground_jcs_rev_3[:,(1, 2)].T*A({P_{ground}}).T*A({P_{rbs_rocker_3}})*Mbar_rbs_rocker_3_jcs_rev_3[:,(0, 1)]],\n",
       "[                                                                                                                                                                   Mbar_rbs_table_jcs_tripod[:,(0, 1)].T*A({P_{rbs_table}}).T*A({P_{ground}})*Mbar_ground_jcs_tripod[:,(1, 2)]],\n",
       "[                                                                        Mbar_rbs_table_jcs_tripod[:,(0, 1)].T*A({P_{rbs_table}}).T*(-A({P_{ground}})*{\\bar{u}^{ground}_{jcs_tripod}} + A({P_{rbs_table}})*{\\bar{u}^{rbs_table}_{jcs_tripod}} - {R_{ground}} + {R_{rbs_table}})],\n",
       "[                                                                        Mbar_rbs_table_jcs_tripod[:,(1, 2)].T*A({P_{rbs_table}}).T*(-A({P_{ground}})*{\\bar{u}^{ground}_{jcs_tripod}} + A({P_{rbs_table}})*{\\bar{u}^{rbs_table}_{jcs_tripod}} - {R_{ground}} + {R_{rbs_table}})],\n",
       "[                                                                                                                A({P_{rbs_link_1}})*{\\bar{u}^{rbs_link_1}_{jcs_upper_uni_1}} - A({P_{rbs_table}})*{\\bar{u}^{rbs_table}_{jcs_upper_uni_1}} + {R_{rbs_link_1}} - {R_{rbs_table}}],\n",
       "[                                                                                                                                                 Mbar_rbs_link_1_jcs_upper_uni_1[:,(0, 1)].T*A({P_{rbs_link_1}}).T*A({P_{rbs_table}})*Mbar_rbs_table_jcs_upper_uni_1[:,(0, 1)]],\n",
       "[                                                                                                                A({P_{rbs_link_2}})*{\\bar{u}^{rbs_link_2}_{jcs_upper_uni_2}} - A({P_{rbs_table}})*{\\bar{u}^{rbs_table}_{jcs_upper_uni_2}} + {R_{rbs_link_2}} - {R_{rbs_table}}],\n",
       "[                                                                                                                                                 Mbar_rbs_link_2_jcs_upper_uni_2[:,(0, 1)].T*A({P_{rbs_link_2}}).T*A({P_{rbs_table}})*Mbar_rbs_table_jcs_upper_uni_2[:,(0, 1)]],\n",
       "[                                                                                                                A({P_{rbs_link_3}})*{\\bar{u}^{rbs_link_3}_{jcs_upper_uni_3}} - A({P_{rbs_table}})*{\\bar{u}^{rbs_table}_{jcs_upper_uni_3}} + {R_{rbs_link_3}} - {R_{rbs_table}}],\n",
       "[                                                                                                                                                 Mbar_rbs_link_3_jcs_upper_uni_3[:,(0, 1)].T*A({P_{rbs_link_3}}).T*A({P_{rbs_table}})*Mbar_rbs_table_jcs_upper_uni_3[:,(0, 1)]],\n",
       "[                                                                                                    -A({P_{rbs_link_1}})*{\\bar{u}^{rbs_link_1}_{jcs_bottom_sph_1}} + A({P_{rbs_rocker_1}})*{\\bar{u}^{rbs_rocker_1}_{jcs_bottom_sph_1}} - {R_{rbs_link_1}} + {R_{rbs_rocker_1}}],\n",
       "[                                                                                                    -A({P_{rbs_link_2}})*{\\bar{u}^{rbs_link_2}_{jcs_bottom_sph_2}} + A({P_{rbs_rocker_2}})*{\\bar{u}^{rbs_rocker_2}_{jcs_bottom_sph_2}} - {R_{rbs_link_2}} + {R_{rbs_rocker_2}}],\n",
       "[                                                                                                    -A({P_{rbs_link_3}})*{\\bar{u}^{rbs_link_3}_{jcs_bottom_sph_3}} + A({P_{rbs_rocker_3}})*{\\bar{u}^{rbs_rocker_3}_{jcs_bottom_sph_3}} - {R_{rbs_link_3}} + {R_{rbs_rocker_3}}],\n",
       "[                                                                                                                                                                                                                                                                  {R_{ground}}],\n",
       "[                                                                                                                                                                                                                                                  {P_{ground}} - {Pg_{ground}}],\n",
       "[                                                                                                                                                                                                                                        -I + {P_{rbs_table}}.T*{P_{rbs_table}}],\n",
       "[                                                                                                                                                                                                                                      -I + {P_{rbs_link_1}}.T*{P_{rbs_link_1}}],\n",
       "[                                                                                                                                                                                                                                      -I + {P_{rbs_link_2}}.T*{P_{rbs_link_2}}],\n",
       "[                                                                                                                                                                                                                                      -I + {P_{rbs_link_3}}.T*{P_{rbs_link_3}}],\n",
       "[                                                                                                                                                                                                                                  -I + {P_{rbs_rocker_1}}.T*{P_{rbs_rocker_1}}],\n",
       "[                                                                                                                                                                                                                                  -I + {P_{rbs_rocker_2}}.T*{P_{rbs_rocker_2}}],\n",
       "[                                                                                                                                                                                                                                  -I + {P_{rbs_rocker_3}}.T*{P_{rbs_rocker_3}}]])"
      ]
     },
     "execution_count": 12,
     "metadata": {},
     "output_type": "execute_result"
    }
   ],
   "source": [
    "sym_model._mbs.pos_equations"
   ]
  },
  {
   "cell_type": "markdown",
   "metadata": {
    "colab_type": "text",
    "id": "wdgCUvI3Ms9r"
   },
   "source": [
    "## SYMBOLIC CONFIGURATION"
   ]
  },
  {
   "cell_type": "code",
   "execution_count": 13,
   "metadata": {
    "colab": {},
    "colab_type": "code",
    "id": "mPXrv68xKoLk"
   },
   "outputs": [],
   "source": [
    "from smbd.interfaces.scripting import configuration"
   ]
  },
  {
   "cell_type": "code",
   "execution_count": 14,
   "metadata": {
    "colab": {},
    "colab_type": "code",
    "id": "i-VHwosjM8Qj"
   },
   "outputs": [],
   "source": [
    "config_name = 'stewart_gough_cfg'\n",
    "config = configuration(config_name, sym_model)"
   ]
  },
  {
   "cell_type": "markdown",
   "metadata": {
    "colab_type": "text",
    "id": "Aab43U2oNZ6Q"
   },
   "source": [
    "### CONFIGURATION INPUTS"
   ]
  },
  {
   "cell_type": "code",
   "execution_count": 15,
   "metadata": {
    "colab": {},
    "colab_type": "code",
    "id": "POolZLG9NU-x"
   },
   "outputs": [],
   "source": [
    "config.add_point.UserInput('bottom_1')\n",
    "config.add_point.UserInput('bottom_2')\n",
    "config.add_point.UserInput('bottom_3')\n",
    "config.add_point.UserInput('middle_1')\n",
    "config.add_point.UserInput('middle_2')\n",
    "config.add_point.UserInput('middle_3')\n",
    "config.add_point.UserInput('upper_1')\n",
    "config.add_point.UserInput('upper_2')\n",
    "config.add_point.UserInput('upper_3')\n",
    "config.add_point.UserInput('tripod')\n",
    "\n",
    "config.add_vector.UserInput('y')\n",
    "config.add_vector.UserInput('z')"
   ]
  },
  {
   "cell_type": "markdown",
   "metadata": {
    "colab_type": "text",
    "id": "9j9nSKi7NwGf"
   },
   "source": [
    "### CONFIGURATION RELATIONS"
   ]
  },
  {
   "cell_type": "code",
   "execution_count": 16,
   "metadata": {
    "colab": {},
    "colab_type": "code",
    "id": "4pYGoARzlyAj"
   },
   "outputs": [],
   "source": [
    "# Bottom Revolute Joints:\n",
    "config.add_relation.Equal_to('pt1_jcs_rev_1', ('hps_bottom_1',))\n",
    "config.add_relation.Equal_to('ax1_jcs_rev_1', ('vcs_y',))\n",
    "\n",
    "config.add_relation.Equal_to('pt1_jcs_rev_2', ('hps_bottom_2',))\n",
    "config.add_relation.Equal_to('ax1_jcs_rev_2', ('vcs_y',))\n",
    "\n",
    "config.add_relation.Equal_to('pt1_jcs_rev_3', ('hps_bottom_3',))\n",
    "config.add_relation.Equal_to('ax1_jcs_rev_3', ('vcs_y',))\n",
    "\n",
    "# Bottom Spherical Joints:\n",
    "config.add_relation.Equal_to('pt1_jcs_bottom_sph_1', ('hps_middle_1',))\n",
    "config.add_relation.Equal_to('ax1_jcs_bottom_sph_1', ('vcs_z',))\n",
    "\n",
    "config.add_relation.Equal_to('pt1_jcs_bottom_sph_2', ('hps_middle_2',))\n",
    "config.add_relation.Equal_to('ax1_jcs_bottom_sph_2', ('vcs_z',))\n",
    "\n",
    "config.add_relation.Equal_to('pt1_jcs_bottom_sph_3', ('hps_middle_3',))\n",
    "config.add_relation.Equal_to('ax1_jcs_bottom_sph_3', ('vcs_z',))\n",
    "\n",
    "# Upper Universal Joints:\n",
    "config.add_relation.Equal_to('pt1_jcs_upper_uni_1', ('hps_upper_1',))\n",
    "config.add_relation.Oriented('ax1_jcs_upper_uni_1', ('hps_middle_1', 'hps_upper_1'))\n",
    "config.add_relation.Equal_to('ax2_jcs_upper_uni_1', ('vcs_z',))\n",
    "\n",
    "config.add_relation.Equal_to('pt1_jcs_upper_uni_2', ('hps_upper_2',))\n",
    "config.add_relation.Oriented('ax1_jcs_upper_uni_2', ('hps_middle_2', 'hps_upper_2'))\n",
    "config.add_relation.Equal_to('ax2_jcs_upper_uni_2', ('vcs_z',))\n",
    "\n",
    "config.add_relation.Equal_to('pt1_jcs_upper_uni_3', ('hps_upper_3',))\n",
    "config.add_relation.Oriented('ax1_jcs_upper_uni_3', ('hps_middle_3', 'hps_upper_3'))\n",
    "config.add_relation.Equal_to('ax2_jcs_upper_uni_3', ('vcs_z',))\n",
    "\n",
    "# Upper Tripod Joint:\n",
    "config.add_relation.Equal_to('pt1_jcs_tripod', ('hps_tripod',))\n",
    "config.add_relation.Equal_to('ax1_jcs_tripod', ('vcs_z',))\n"
   ]
  },
  {
   "cell_type": "markdown",
   "metadata": {
    "colab_type": "text",
    "id": "GBDNEoICQMeN"
   },
   "source": [
    "### GEOMETRIES"
   ]
  },
  {
   "cell_type": "code",
   "execution_count": 17,
   "metadata": {
    "colab": {},
    "colab_type": "code",
    "id": "G231--NTNEyK"
   },
   "outputs": [],
   "source": [
    "config.add_scalar.UserInput('links_ro')\n",
    "config.add_scalar.UserInput('rockers_ro')\n",
    "\n",
    "config.add_geometry.Triangular_Prism('table', ('hps_upper_1','hps_upper_2','hps_upper_3','s_rockers_ro'))\n",
    "config.assign_geometry_to_body('rbs_table', 'gms_table')\n",
    "\n",
    "config.add_geometry.Cylinder_Geometry('rocker_1', ('hps_bottom_1','hps_middle_1','s_rockers_ro'))\n",
    "config.assign_geometry_to_body('rbs_rocker_1', 'gms_rocker_1')\n",
    "\n",
    "config.add_geometry.Cylinder_Geometry('rocker_2', ('hps_bottom_2','hps_middle_2','s_rockers_ro'))\n",
    "config.assign_geometry_to_body('rbs_rocker_2', 'gms_rocker_2')\n",
    "\n",
    "config.add_geometry.Cylinder_Geometry('rocker_3', ('hps_bottom_3','hps_middle_3','s_rockers_ro'))\n",
    "config.assign_geometry_to_body('rbs_rocker_3', 'gms_rocker_3')\n",
    "\n",
    "config.add_geometry.Cylinder_Geometry('link_1', ('hps_upper_1','hps_middle_1','s_links_ro'))\n",
    "config.assign_geometry_to_body('rbs_link_1', 'gms_link_1')\n",
    "\n",
    "config.add_geometry.Cylinder_Geometry('link_2', ('hps_upper_2','hps_middle_2','s_links_ro'))\n",
    "config.assign_geometry_to_body('rbs_link_2', 'gms_link_2')\n",
    "\n",
    "config.add_geometry.Cylinder_Geometry('link_3', ('hps_upper_3','hps_middle_3','s_links_ro'))\n",
    "config.assign_geometry_to_body('rbs_link_3', 'gms_link_3')\n"
   ]
  },
  {
   "cell_type": "markdown",
   "metadata": {
    "colab_type": "text",
    "id": "7W4E4M4CRa68"
   },
   "source": [
    "### ASSEMBLING"
   ]
  },
  {
   "cell_type": "code",
   "execution_count": 18,
   "metadata": {
    "colab": {},
    "colab_type": "code",
    "id": "loJxG25CRbVE"
   },
   "outputs": [],
   "source": [
    "config.assemble_model()"
   ]
  },
  {
   "cell_type": "code",
   "execution_count": 19,
   "metadata": {},
   "outputs": [],
   "source": [
    "config.extract_inputs_to_csv()"
   ]
  },
  {
   "cell_type": "markdown",
   "metadata": {
    "colab_type": "text",
    "id": "StqlsXABYgEO"
   },
   "source": [
    "## CODE GENERATION"
   ]
  },
  {
   "cell_type": "markdown",
   "metadata": {
    "colab_type": "text",
    "id": "udnBb6lvi9fo"
   },
   "source": [
    "### Importing Python Code Generators"
   ]
  },
  {
   "cell_type": "code",
   "execution_count": 20,
   "metadata": {
    "colab": {},
    "colab_type": "code",
    "id": "Gigw7exKP7aK"
   },
   "outputs": [],
   "source": [
    "from smbd.numenv.python.codegen import generators"
   ]
  },
  {
   "cell_type": "markdown",
   "metadata": {
    "colab_type": "text",
    "id": "w-KSwTyjjN5P"
   },
   "source": [
    "### Generating Files"
   ]
  },
  {
   "cell_type": "code",
   "execution_count": 21,
   "metadata": {
    "colab": {
     "base_uri": "https://localhost:8080/",
     "height": 34
    },
    "colab_type": "code",
    "executionInfo": {
     "elapsed": 583,
     "status": "ok",
     "timestamp": 1557736954280,
     "user": {
      "displayName": "Khaled Ghobashy",
      "photoUrl": "",
      "userId": "05113177637222565845"
     },
     "user_tz": -120
    },
    "id": "LJS5-cw_UShy",
    "outputId": "df55acd6-f75e-46ea-b6e3-8db1050860bf"
   },
   "outputs": [
    {
     "name": "stdout",
     "output_type": "stream",
     "text": [
      "File full path : stewart_gough.py\n"
     ]
    }
   ],
   "source": [
    "model_generator = generators.template_codegen(sym_model._mbs)\n",
    "model_generator.write_code_file()"
   ]
  },
  {
   "cell_type": "code",
   "execution_count": 22,
   "metadata": {
    "colab": {
     "base_uri": "https://localhost:8080/",
     "height": 34
    },
    "colab_type": "code",
    "executionInfo": {
     "elapsed": 807,
     "status": "ok",
     "timestamp": 1557736956747,
     "user": {
      "displayName": "Khaled Ghobashy",
      "photoUrl": "",
      "userId": "05113177637222565845"
     },
     "user_tz": -120
    },
    "id": "I7wTNxhmUimC",
    "outputId": "9f75f4e4-f14a-4060-873b-3dc57fa0f065"
   },
   "outputs": [
    {
     "name": "stdout",
     "output_type": "stream",
     "text": [
      "File full path : stewart_gough_cfg.py\n"
     ]
    }
   ],
   "source": [
    "config_generator = generators.configuration_codegen(config._config)\n",
    "config_generator.write_code_file()"
   ]
  },
  {
   "cell_type": "markdown",
   "metadata": {
    "colab_type": "text",
    "id": "cF00xa_SbDl0"
   },
   "source": [
    "## NUMERICAL SIMULATION"
   ]
  },
  {
   "cell_type": "markdown",
   "metadata": {
    "colab_type": "text",
    "id": "w-7fcrPBjUie"
   },
   "source": [
    "###  IMPORTS"
   ]
  },
  {
   "cell_type": "code",
   "execution_count": 23,
   "metadata": {
    "colab": {},
    "colab_type": "code",
    "id": "k-OHyJ25V2_2"
   },
   "outputs": [],
   "source": [
    "import numpy as np\n",
    "from smbd.numenv.python.interfaces.scripting import multibody_system, simulation"
   ]
  },
  {
   "cell_type": "code",
   "execution_count": 24,
   "metadata": {
    "colab": {
     "base_uri": "https://localhost:8080/",
     "height": 86
    },
    "colab_type": "code",
    "executionInfo": {
     "elapsed": 520,
     "status": "ok",
     "timestamp": 1557736970805,
     "user": {
      "displayName": "Khaled Ghobashy",
      "photoUrl": "",
      "userId": "05113177637222565845"
     },
     "user_tz": -120
    },
    "id": "gVGfI0prVtb-",
    "outputId": "f489c7d1-07d2-48e3-c12d-1e2959b53cb8"
   },
   "outputs": [],
   "source": [
    "import stewart_gough, stewart_gough_cfg"
   ]
  },
  {
   "cell_type": "markdown",
   "metadata": {
    "colab_type": "text",
    "id": "vkHoR9CCjb6u"
   },
   "source": [
    "### Creating Numerical Model"
   ]
  },
  {
   "cell_type": "code",
   "execution_count": 25,
   "metadata": {
    "colab": {},
    "colab_type": "code",
    "id": "bS9zE2usXu3X"
   },
   "outputs": [],
   "source": [
    "num_model = multibody_system(stewart_gough)\n",
    "num_model.system.config = stewart_gough_cfg.configuration()"
   ]
  },
  {
   "cell_type": "markdown",
   "metadata": {
    "colab_type": "text",
    "id": "85ZRAWmRjitu"
   },
   "source": [
    "### Setting Configuration Numerical Data"
   ]
  },
  {
   "cell_type": "code",
   "execution_count": 26,
   "metadata": {
    "colab": {},
    "colab_type": "code",
    "id": "APSLK6Ny9apS"
   },
   "outputs": [],
   "source": [
    "inputs_dataframe = config._config.create_inputs_dataframe()"
   ]
  },
  {
   "cell_type": "code",
   "execution_count": 27,
   "metadata": {
    "colab": {},
    "colab_type": "code",
    "id": "F6KpPR4z7xUL"
   },
   "outputs": [],
   "source": [
    "inputs_dataframe.loc['hps_tripod'] = [0, 0, 390, 0]\n",
    "\n",
    "inputs_dataframe.loc['hps_bottom_1'] = [0, -430, 0, 0]\n",
    "inputs_dataframe.loc['hps_bottom_2'] = [139,  215, 0, 0]\n",
    "inputs_dataframe.loc['hps_bottom_3'] = [-139, -215, 0, 0]\n",
    "\n",
    "inputs_dataframe.loc['hps_middle_1'] = [-100, -430, 0, 0]\n",
    "inputs_dataframe.loc['hps_middle_2'] = [39, 215, 0, 0]\n",
    "inputs_dataframe.loc['hps_middle_3'] = [-39, 215, 0, 0]\n",
    "\n",
    "inputs_dataframe.loc['hps_upper_1'] = [0,  -430, 430, 0]\n",
    "inputs_dataframe.loc['hps_upper_2'] = [139, 215, 430, 0]\n",
    "inputs_dataframe.loc['hps_upper_3'] = [-139, 215, 430, 0]\n",
    "\n",
    "inputs_dataframe.loc['vcs_y'] = [0,1,0,0]\n",
    "inputs_dataframe.loc['vcs_z'] = [0,0,1,0]\n",
    "\n",
    "inputs_dataframe.loc['s_links_ro'] = [20,0,0,0]\n",
    "inputs_dataframe.loc['s_rockers_ro'] = [20,0,0,0]\n"
   ]
  },
  {
   "cell_type": "code",
   "execution_count": 28,
   "metadata": {},
   "outputs": [],
   "source": [
    "inputs_dataframe.to_csv('csv_files/stewart_gough_v1.csv')"
   ]
  },
  {
   "cell_type": "code",
   "execution_count": 29,
   "metadata": {
    "colab": {},
    "colab_type": "code",
    "id": "0sZEcd8bX2uG"
   },
   "outputs": [],
   "source": [
    "num_model.system.config.load_from_dataframe(inputs_dataframe)\n",
    "num_model.system.config.P_ground = np.array([[1],[0],[0],[0]], dtype=np.float64)"
   ]
  },
  {
   "cell_type": "code",
   "execution_count": 30,
   "metadata": {
    "colab": {},
    "colab_type": "code",
    "id": "J5Aexk5igheY"
   },
   "outputs": [],
   "source": [
    "num_model.system.config.AF_jcs_rev_1 = lambda t :  np.deg2rad(360)*t\n",
    "num_model.system.config.AF_jcs_rev_2 = lambda t :  np.deg2rad(360)*t\n",
    "num_model.system.config.AF_jcs_rev_3 = lambda t :  np.deg2rad(360)*t"
   ]
  },
  {
   "cell_type": "markdown",
   "metadata": {
    "colab_type": "text",
    "id": "APxcuvdMjq4-"
   },
   "source": [
    "### Creating Simulation Instance"
   ]
  },
  {
   "cell_type": "code",
   "execution_count": 31,
   "metadata": {
    "colab": {
     "base_uri": "https://localhost:8080/",
     "height": 69
    },
    "colab_type": "code",
    "executionInfo": {
     "elapsed": 16693,
     "status": "ok",
     "timestamp": 1557737279456,
     "user": {
      "displayName": "Khaled Ghobashy",
      "photoUrl": "",
      "userId": "05113177637222565845"
     },
     "user_tz": -120
    },
    "id": "-TQlCPthclMA",
    "outputId": "2a7f819d-52ff-4da4-8db9-c92f17546cd4"
   },
   "outputs": [
    {
     "name": "stdout",
     "output_type": "stream",
     "text": [
      "\n",
      "Running System Kinematic Analysis:\n",
      "Progress: [=========================] 100%, (299/299) steps."
     ]
    }
   ],
   "source": [
    "sim1 = simulation('sim1', num_model, 'kds')\n",
    "sim1.set_time_array(3, 300)\n",
    "sim1.solve()"
   ]
  },
  {
   "cell_type": "markdown",
   "metadata": {
    "colab_type": "text",
    "id": "MRUUucP1jwdF"
   },
   "source": [
    "### Visualizing Results' Graphs"
   ]
  },
  {
   "cell_type": "code",
   "execution_count": 32,
   "metadata": {
    "colab": {
     "base_uri": "https://localhost:8080/",
     "height": 774
    },
    "colab_type": "code",
    "executionInfo": {
     "elapsed": 1319,
     "status": "ok",
     "timestamp": 1557737282414,
     "user": {
      "displayName": "Khaled Ghobashy",
      "photoUrl": "",
      "userId": "05113177637222565845"
     },
     "user_tz": -120
    },
    "id": "FbEdPSzWfBQs",
    "outputId": "6b2b60b7-caff-4c97-a024-2751adfdec6c"
   },
   "outputs": [
    {
     "data": {
      "image/png": "[encoded data removed]",
      "text/plain": [
       "<Figure size 576x288 with 1 Axes>"
      ]
     },
     "metadata": {
      "needs_background": "light"
     },
     "output_type": "display_data"
    },
    {
     "data": {
      "image/png": "[encoded data removed]",
      "text/plain": [
       "<Figure size 576x288 with 1 Axes>"
      ]
     },
     "metadata": {
      "needs_background": "light"
     },
     "output_type": "display_data"
    },
    {
     "data": {
      "image/png": "[encoded data removed]",
      "text/plain": [
       "<Figure size 576x288 with 1 Axes>"
      ]
     },
     "metadata": {
      "needs_background": "light"
     },
     "output_type": "display_data"
    }
   ],
   "source": [
    "sim1.plot([('rbs_table.z', 'pos')])\n",
    "sim1.plot([('rbs_table.z', 'vel')])\n",
    "sim1.plot([('rbs_table.z', 'acc')])"
   ]
  },
  {
   "cell_type": "code",
   "execution_count": null,
   "metadata": {
    "colab": {},
    "colab_type": "code",
    "id": "rqS1av3HgQTz"
   },
   "outputs": [],
   "source": []
  }
 ],
 "metadata": {
  "colab": {
   "collapsed_sections": [
    "XoGQt6KfpT6W",
    "RpJj74Bp85kj",
    "H4cDiuwl9GhC",
    "xEIGTW2xU__C",
    "CdSxgX5g12iy",
    "kij6eQQ82RMh",
    "6xG8vWUJ2Tk-"
   ],
   "name": "stewart_gough.ipynb",
   "provenance": [],
   "toc_visible": true,
   "version": "0.3.2"
  },
  "kernelspec": {
   "display_name": "Python 3",
   "language": "python",
   "name": "python3"
  },
  "language_info": {
   "codemirror_mode": {
    "name": "ipython",
    "version": 3
   },
   "file_extension": ".py",
   "mimetype": "text/x-python",
   "name": "python",
   "nbconvert_exporter": "python",
   "pygments_lexer": "ipython3",
   "version": "3.7.3"
  }
 },
 "nbformat": 4,
 "nbformat_minor": 2
}
