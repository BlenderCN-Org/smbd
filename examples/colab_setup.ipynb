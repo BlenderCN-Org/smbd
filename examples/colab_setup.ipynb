{
 "cells": [
  {
   "cell_type": "code",
   "execution_count": 4,
   "metadata": {},
   "outputs": [],
   "source": [
    "creator_text = '''\\\n",
    "\n",
    "projects_dir = '/content/projects'\n",
    "\n",
    "def initialize_project(project_name):\n",
    "    \"\"\"\n",
    "    Creating a directory to hold the model files.\n",
    "    \"\"\"\n",
    "    existing_projects = os.listdir(projects_dir)\n",
    "    project_dir  = os.path.join(projects_dir, project_name)\n",
    "        \n",
    "    if project_name not in existing_projects:\n",
    "        os.mkdir(project_dir)\n",
    "        print('Created project %s'%project_dir)\n",
    "        os.chdir(project_dir)\n",
    "        print('Changed working directory to %s'%project_dir)\n",
    "        for d in ['csv_files', 'results']:\n",
    "            os.mkdir(d)\n",
    "            print('Created Directory %s in %s'%(d, project_dir))\n",
    "        with open('__init__.py', 'w') as file:\n",
    "            file.write('#')\n",
    "        print('Created __init__.py file')\n",
    "    elif os.path.basename(os.getcwd()) == project_name:\n",
    "        print('Current working dir : %s'%os.getcwd())\n",
    "    else:\n",
    "        os.chdir(project_dir)\n",
    "        print('Changed working directory to %s'%project_dir)\n",
    "\n",
    "'''\n",
    "\n",
    "def setup_colab_machine():\n",
    "    projects_dir = '/content/projects'\n",
    "    \n",
    "    try:\n",
    "        import google.colab\n",
    "        IN_COLAB = True\n",
    "    except:\n",
    "        IN_COLAB = False\n",
    "        print('Not a Colab Machine!')\n",
    "        print('Exiting.')\n",
    "        return None\n",
    "    \n",
    "    if 'smbd' not in os.listdir():\n",
    "        os.system('git clone https://github.com/khaledghobashy/smbd.git')\n",
    "        os.system('pip install sympy==1.4')\n",
    "        print('Installed required packages!')\n",
    "        \n",
    "        os.makedirs(projects_dir)\n",
    "        with open(os.path.join(projects_dir, '__init__.py'), 'w') as file:\n",
    "            file.write('#')\n",
    "        with open(os.path.join(projects_dir, 'creator.py'), 'w') as file:\n",
    "            file.write(creator_text)\n",
    "        print('Created the \"projects\" directory')\n",
    "    else:\n",
    "        print('Machine is already setup.')\n"
   ]
  },
  {
   "cell_type": "code",
   "execution_count": 5,
   "metadata": {},
   "outputs": [
    {
     "name": "stdout",
     "output_type": "stream",
     "text": [
      "Not a Colab Machine!\n",
      "Exiting.\n"
     ]
    }
   ],
   "source": [
    "setup_colab_machine()"
   ]
  },
  {
   "cell_type": "code",
   "execution_count": null,
   "metadata": {},
   "outputs": [],
   "source": []
  }
 ],
 "metadata": {
  "kernelspec": {
   "display_name": "Python 3",
   "language": "python",
   "name": "python3"
  },
  "language_info": {
   "codemirror_mode": {
    "name": "ipython",
    "version": 3
   },
   "file_extension": ".py",
   "mimetype": "text/x-python",
   "name": "python",
   "nbconvert_exporter": "python",
   "pygments_lexer": "ipython3",
   "version": "3.7.3"
  }
 },
 "nbformat": 4,
 "nbformat_minor": 2
}
