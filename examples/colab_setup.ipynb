{
 "cells": [
  {
   "cell_type": "code",
   "execution_count": null,
   "metadata": {},
   "outputs": [],
   "source": [
    "def setup_colab_machine():\n",
    "    import os\n",
    "    projects_dir = '/content/projects'\n",
    "    \n",
    "    try:\n",
    "        import google.colab\n",
    "    except:\n",
    "        print('Not a Colab Machine!')\n",
    "        print('Exiting.')\n",
    "        return None\n",
    "    \n",
    "    if 'smbd' not in os.listdir():\n",
    "        os.system('git clone https://github.com/khaledghobashy/smbd.git')\n",
    "        os.system('pip install sympy==1.4')\n",
    "        print('Installed required packages!')\n",
    "        \n",
    "        os.makedirs(projects_dir)\n",
    "        with open(os.path.join(projects_dir, '__init__.py'), 'w') as file:\n",
    "            file.write('#')\n",
    "        print('Created the \"projects\" directory')\n",
    "    else:\n",
    "        print('Machine is already setup.')\n"
   ]
  },
  {
   "cell_type": "code",
   "execution_count": null,
   "metadata": {},
   "outputs": [],
   "source": [
    "setup_colab_machine()"
   ]
  },
  {
   "cell_type": "code",
   "execution_count": null,
   "metadata": {},
   "outputs": [],
   "source": []
  }
 ],
 "metadata": {
  "kernelspec": {
   "display_name": "Python 3",
   "language": "python",
   "name": "python3"
  },
  "language_info": {
   "codemirror_mode": {
    "name": "ipython",
    "version": 3
   },
   "file_extension": ".py",
   "mimetype": "text/x-python",
   "name": "python",
   "nbconvert_exporter": "python",
   "pygments_lexer": "ipython3",
   "version": "3.7.3"
  }
 },
 "nbformat": 4,
 "nbformat_minor": 2
}
