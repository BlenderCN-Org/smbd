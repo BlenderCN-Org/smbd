{
 "cells": [
  {
   "cell_type": "markdown",
   "metadata": {},
   "source": [
    "# SPATIAL FOURBAR\n",
    "-----------------"
   ]
  },
  {
   "cell_type": "markdown",
   "metadata": {},
   "source": [
    "## SYSTEM DISCRIPTION\n",
    "---------------------"
   ]
  },
  {
   "cell_type": "markdown",
   "metadata": {},
   "source": [
    "_Double click to write a discription here ..._"
   ]
  },
  {
   "cell_type": "markdown",
   "metadata": {},
   "source": [
    "-----------------------------------------------"
   ]
  },
  {
   "cell_type": "code",
   "execution_count": 1,
   "metadata": {},
   "outputs": [],
   "source": [
    "import sys\n",
    "pkg_path = '/home/khaledghobashy/Documents/asurt_cdt_symbolic'\n",
    "sys.path.append(pkg_path)"
   ]
  },
  {
   "cell_type": "code",
   "execution_count": 10,
   "metadata": {},
   "outputs": [],
   "source": [
    "project_dir = '/home/khaledghobashy/Documents/asurt_cdt_projects/asurt_projects'"
   ]
  },
  {
   "cell_type": "code",
   "execution_count": 2,
   "metadata": {},
   "outputs": [],
   "source": [
    "from asurt.interfaces.scripting import standalone_topology"
   ]
  },
  {
   "cell_type": "markdown",
   "metadata": {},
   "source": [
    "## SYSTEM TOPOLOGY\n",
    "-----------------"
   ]
  },
  {
   "cell_type": "code",
   "execution_count": 3,
   "metadata": {},
   "outputs": [],
   "source": [
    "sym_model = standalone_topology('spatial_fourbar')"
   ]
  },
  {
   "cell_type": "markdown",
   "metadata": {},
   "source": [
    "### ADDING SYSTEM BODIES"
   ]
  },
  {
   "cell_type": "code",
   "execution_count": 4,
   "metadata": {},
   "outputs": [],
   "source": [
    "sym_model.add_body('l1')\n",
    "sym_model.add_body('l2')\n",
    "sym_model.add_body('l3')"
   ]
  },
  {
   "cell_type": "markdown",
   "metadata": {},
   "source": [
    "### ADDING SYSTEM JOINTS"
   ]
  },
  {
   "cell_type": "code",
   "execution_count": 5,
   "metadata": {},
   "outputs": [],
   "source": [
    "sym_model.add_joint.revolute('a','ground','rbs_l1')\n",
    "sym_model.add_joint.spherical('b','rbs_l1','rbs_l2')\n",
    "sym_model.add_joint.universal('c','rbs_l2','rbs_l3')\n",
    "sym_model.add_joint.revolute('d','rbs_l3','ground')"
   ]
  },
  {
   "cell_type": "markdown",
   "metadata": {},
   "source": [
    "### ADDING SYSTEM ACTUATORS"
   ]
  },
  {
   "cell_type": "code",
   "execution_count": 6,
   "metadata": {},
   "outputs": [],
   "source": [
    "sym_model.add_actuator.rotational_actuator('act', 'jcs_a')"
   ]
  },
  {
   "cell_type": "markdown",
   "metadata": {},
   "source": [
    "### ADDING SYSTEM FORCES"
   ]
  },
  {
   "cell_type": "code",
   "execution_count": null,
   "metadata": {},
   "outputs": [],
   "source": [
    "#model.add_force.internal_force('force_name', 'body_1', 'body_2', mirror=False)"
   ]
  },
  {
   "cell_type": "markdown",
   "metadata": {},
   "source": [
    "### ASSEMBLING AND SAVING SYSTEM"
   ]
  },
  {
   "cell_type": "code",
   "execution_count": 7,
   "metadata": {},
   "outputs": [],
   "source": [
    "sym_model.assemble_model()\n",
    "sym_model.save()"
   ]
  },
  {
   "cell_type": "markdown",
   "metadata": {},
   "source": [
    "### SYMBOLIC CHARACTERISTICS "
   ]
  },
  {
   "cell_type": "markdown",
   "metadata": {},
   "source": [
    "#### Checking the Topology Graph"
   ]
  },
  {
   "cell_type": "code",
   "execution_count": 8,
   "metadata": {},
   "outputs": [
    {
     "data": {
      "image/png": "[encoded data removed]",
      "text/plain": [
       "<Figure size 720x432 with 1 Axes>"
      ]
     },
     "metadata": {},
     "output_type": "display_data"
    }
   ],
   "source": [
    "sym_model._mbs.draw_constraints_topology()"
   ]
  },
  {
   "cell_type": "markdown",
   "metadata": {},
   "source": [
    "#### Checking the System Equations"
   ]
  },
  {
   "cell_type": "code",
   "execution_count": 12,
   "metadata": {},
   "outputs": [
    {
     "data": {
      "text/latex": [
       "$\\displaystyle \\left[\\begin{matrix}{A({P_{ground}})} {\\bar{u}^{ground}_{jcs_a}} - {A({P_{rbs_l1}})} {\\bar{u}^{rbs_l1}_{jcs_a}} + {R_{ground}} - {R_{rbs_l1}}\\\\\\left({\\hat{i}_{{\\bar{M}^{ground}_{jcs_a}}}}\\right)^{T} \\left({A({P_{ground}})}\\right)^{T} {A({P_{rbs_l1}})} {\\hat{k}_{{\\bar{M}^{rbs_l1}_{jcs_a}}}}\\\\\\left({\\hat{j}_{{\\bar{M}^{ground}_{jcs_a}}}}\\right)^{T} \\left({A({P_{ground}})}\\right)^{T} {A({P_{rbs_l1}})} {\\hat{k}_{{\\bar{M}^{rbs_l1}_{jcs_a}}}}\\\\- \\sin{\\left(\\operatorname{AF_{jcs a}}{\\left(t \\right)} \\right)} \\left({\\hat{i}_{{\\bar{M}^{ground}_{jcs_a}}}}\\right)^{T} \\left({A({P_{ground}})}\\right)^{T} {A({P_{rbs_l1}})} {\\hat{i}_{{\\bar{M}^{rbs_l1}_{jcs_a}}}} + \\cos{\\left(\\operatorname{AF_{jcs a}}{\\left(t \\right)} \\right)} \\left({\\hat{j}_{{\\bar{M}^{ground}_{jcs_a}}}}\\right)^{T} \\left({A({P_{ground}})}\\right)^{T} {A({P_{rbs_l1}})} {\\hat{i}_{{\\bar{M}^{rbs_l1}_{jcs_a}}}}\\\\{A({P_{rbs_l1}})} {\\bar{u}^{rbs_l1}_{jcs_b}} - {A({P_{rbs_l2}})} {\\bar{u}^{rbs_l2}_{jcs_b}} + {R_{rbs_l1}} - {R_{rbs_l2}}\\\\{A({P_{rbs_l2}})} {\\bar{u}^{rbs_l2}_{jcs_c}} - {A({P_{rbs_l3}})} {\\bar{u}^{rbs_l3}_{jcs_c}} + {R_{rbs_l2}} - {R_{rbs_l3}}\\\\\\left({\\hat{i}_{{\\bar{M}^{rbs_l2}_{jcs_c}}}}\\right)^{T} \\left({A({P_{rbs_l2}})}\\right)^{T} {A({P_{rbs_l3}})} {\\hat{i}_{{\\bar{M}^{rbs_l3}_{jcs_c}}}}\\\\- {A({P_{ground}})} {\\bar{u}^{ground}_{jcs_d}} + {A({P_{rbs_l3}})} {\\bar{u}^{rbs_l3}_{jcs_d}} - {R_{ground}} + {R_{rbs_l3}}\\\\\\left({\\hat{i}_{{\\bar{M}^{rbs_l3}_{jcs_d}}}}\\right)^{T} \\left({A({P_{rbs_l3}})}\\right)^{T} {A({P_{ground}})} {\\hat{k}_{{\\bar{M}^{ground}_{jcs_d}}}}\\\\\\left({\\hat{j}_{{\\bar{M}^{rbs_l3}_{jcs_d}}}}\\right)^{T} \\left({A({P_{rbs_l3}})}\\right)^{T} {A({P_{ground}})} {\\hat{k}_{{\\bar{M}^{ground}_{jcs_d}}}}\\\\{R_{ground}}\\\\{P_{ground}} - {Pg_{ground}}\\\\- \\mathbb{I} + {P_{rbs_l1}}^{T} {P_{rbs_l1}}\\\\- \\mathbb{I} + {P_{rbs_l2}}^{T} {P_{rbs_l2}}\\\\- \\mathbb{I} + {P_{rbs_l3}}^{T} {P_{rbs_l3}}\\end{matrix}\\right]$"
      ],
      "text/plain": [
       "Matrix([\n",
       "[                                                                                                         A({P_{ground}})*{\\bar{u}^{ground}_{jcs_a}} - A({P_{rbs_l1}})*{\\bar{u}^{rbs_l1}_{jcs_a}} + {R_{ground}} - {R_{rbs_l1}}],\n",
       "[                                                                                                                                   Mbar_ground_jcs_a[:,(0, 1)].T*A({P_{ground}}).T*A({P_{rbs_l1}})*Mbar_rbs_l1_jcs_a[:,(2, 3)]],\n",
       "[                                                                                                                                   Mbar_ground_jcs_a[:,(1, 2)].T*A({P_{ground}}).T*A({P_{rbs_l1}})*Mbar_rbs_l1_jcs_a[:,(2, 3)]],\n",
       "[(-sin(AF_jcs_a(t)))*Mbar_ground_jcs_a[:,(0, 1)].T*A({P_{ground}}).T*A({P_{rbs_l1}})*Mbar_rbs_l1_jcs_a[:,(0, 1)] + cos(AF_jcs_a(t))*Mbar_ground_jcs_a[:,(1, 2)].T*A({P_{ground}}).T*A({P_{rbs_l1}})*Mbar_rbs_l1_jcs_a[:,(0, 1)]],\n",
       "[                                                                                                         A({P_{rbs_l1}})*{\\bar{u}^{rbs_l1}_{jcs_b}} - A({P_{rbs_l2}})*{\\bar{u}^{rbs_l2}_{jcs_b}} + {R_{rbs_l1}} - {R_{rbs_l2}}],\n",
       "[                                                                                                         A({P_{rbs_l2}})*{\\bar{u}^{rbs_l2}_{jcs_c}} - A({P_{rbs_l3}})*{\\bar{u}^{rbs_l3}_{jcs_c}} + {R_{rbs_l2}} - {R_{rbs_l3}}],\n",
       "[                                                                                                                                   Mbar_rbs_l2_jcs_c[:,(0, 1)].T*A({P_{rbs_l2}}).T*A({P_{rbs_l3}})*Mbar_rbs_l3_jcs_c[:,(0, 1)]],\n",
       "[                                                                                                        -A({P_{ground}})*{\\bar{u}^{ground}_{jcs_d}} + A({P_{rbs_l3}})*{\\bar{u}^{rbs_l3}_{jcs_d}} - {R_{ground}} + {R_{rbs_l3}}],\n",
       "[                                                                                                                                   Mbar_rbs_l3_jcs_d[:,(0, 1)].T*A({P_{rbs_l3}}).T*A({P_{ground}})*Mbar_ground_jcs_d[:,(2, 3)]],\n",
       "[                                                                                                                                   Mbar_rbs_l3_jcs_d[:,(1, 2)].T*A({P_{rbs_l3}}).T*A({P_{ground}})*Mbar_ground_jcs_d[:,(2, 3)]],\n",
       "[                                                                                                                                                                                                                  {R_{ground}}],\n",
       "[                                                                                                                                                                                                  {P_{ground}} - {Pg_{ground}}],\n",
       "[                                                                                                                                                                                              -I + {P_{rbs_l1}}.T*{P_{rbs_l1}}],\n",
       "[                                                                                                                                                                                              -I + {P_{rbs_l2}}.T*{P_{rbs_l2}}],\n",
       "[                                                                                                                                                                                              -I + {P_{rbs_l3}}.T*{P_{rbs_l3}}]])"
      ]
     },
     "execution_count": 12,
     "metadata": {},
     "output_type": "execute_result"
    }
   ],
   "source": [
    "sym_model._mbs.pos_equations"
   ]
  },
  {
   "cell_type": "markdown",
   "metadata": {},
   "source": [
    "## SYSTEM CONFIGURATION\n",
    "-----------------------"
   ]
  },
  {
   "cell_type": "code",
   "execution_count": 14,
   "metadata": {},
   "outputs": [],
   "source": [
    "config_name = 'spatial_fourbar_cfg'\n",
    "config = sui.configuration(config_name, model)"
   ]
  },
  {
   "cell_type": "markdown",
   "metadata": {},
   "source": [
    "### CONFIGURATION INPUTS"
   ]
  },
  {
   "cell_type": "code",
   "execution_count": 15,
   "metadata": {},
   "outputs": [],
   "source": [
    "config.add_point.UserInput('a')\n",
    "config.add_point.UserInput('b')\n",
    "config.add_point.UserInput('c')\n",
    "config.add_point.UserInput('d')"
   ]
  },
  {
   "cell_type": "markdown",
   "metadata": {},
   "source": [
    "### CONFIGURATION RELATIONS"
   ]
  },
  {
   "cell_type": "code",
   "execution_count": 16,
   "metadata": {},
   "outputs": [],
   "source": [
    "config.add_relation.Equal_to('pt1_jcs_a',('hps_a',))\n",
    "config.add_relation.Equal_to('pt1_jcs_b',('hps_b',))\n",
    "config.add_relation.Equal_to('pt1_jcs_c',('hps_c',))\n",
    "config.add_relation.Equal_to('pt1_jcs_d',('hps_d',))\n",
    "\n",
    "config.add_relation.Oriented('ax1_jcs_c',('hps_b', 'hps_c'))\n",
    "config.add_relation.Oriented('ax2_jcs_c',('hps_c', 'hps_b'))"
   ]
  },
  {
   "cell_type": "markdown",
   "metadata": {},
   "source": [
    "### CONFIGURATION GEOMETRIES"
   ]
  },
  {
   "cell_type": "code",
   "execution_count": 17,
   "metadata": {},
   "outputs": [],
   "source": [
    "config.add_scalar.UserInput('links_ro')\n",
    "\n",
    "config.add_geometry.Cylinder_Geometry('l1', ('hps_a','hps_b','s_links_ro'))\n",
    "config.assign_geometry_to_body('rbs_l1', 'gms_l1')\n",
    "\n",
    "config.add_geometry.Cylinder_Geometry('l2', ('hps_b','hps_c','s_links_ro'))\n",
    "config.assign_geometry_to_body('rbs_l2', 'gms_l2')\n",
    "\n",
    "config.add_geometry.Cylinder_Geometry('l3', ('hps_c','hps_d','s_links_ro'))\n",
    "config.assign_geometry_to_body('rbs_l3', 'gms_l3')"
   ]
  },
  {
   "cell_type": "markdown",
   "metadata": {},
   "source": [
    "### ASSEMBLING AND SAVING CONFIGURATION"
   ]
  },
  {
   "cell_type": "code",
   "execution_count": 18,
   "metadata": {},
   "outputs": [],
   "source": [
    "config.assemble_model()"
   ]
  },
  {
   "cell_type": "code",
   "execution_count": 19,
   "metadata": {},
   "outputs": [],
   "source": [
    "config.extract_inputs_to_csv()"
   ]
  },
  {
   "cell_type": "code",
   "execution_count": 20,
   "metadata": {},
   "outputs": [
    {
     "name": "stdout",
     "output_type": "stream",
     "text": [
      "File full path : /home/khaledghobashy/Documents/asurt_cdt_projects/asurt_projects/numenv/python/models/configurations/spatial_fourbar_cfg.py\n"
     ]
    }
   ],
   "source": [
    "config.write_python_code(project_dir)"
   ]
  },
  {
   "cell_type": "code",
   "execution_count": 21,
   "metadata": {},
   "outputs": [],
   "source": [
    "config.write_blender_script(project_dir)"
   ]
  },
  {
   "cell_type": "code",
   "execution_count": null,
   "metadata": {},
   "outputs": [],
   "source": []
  }
 ],
 "metadata": {
  "kernelspec": {
   "display_name": "Python 3",
   "language": "python",
   "name": "python3"
  },
  "language_info": {
   "codemirror_mode": {
    "name": "ipython",
    "version": 3
   },
   "file_extension": ".py",
   "mimetype": "text/x-python",
   "name": "python",
   "nbconvert_exporter": "python",
   "pygments_lexer": "ipython3",
   "version": "3.7.3"
  }
 },
 "nbformat": 4,
 "nbformat_minor": 2
}
