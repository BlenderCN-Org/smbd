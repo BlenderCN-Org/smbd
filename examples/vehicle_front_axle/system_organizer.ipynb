{
 "cells": [
  {
   "cell_type": "code",
   "execution_count": 1,
   "metadata": {},
   "outputs": [],
   "source": [
    "import os"
   ]
  },
  {
   "cell_type": "code",
   "execution_count": null,
   "metadata": {},
   "outputs": [],
   "source": [
    "init_text = '''\\\n",
    "#\n",
    "import os\n",
    "_files = os.listdir(os.path.dirname(__file__))\n",
    "_models = [i for i in _files if os.path.splitext(i)[1]=='.py' and not i.startswith('__')]\n",
    "__all__ = _models\n",
    "_imports = '\\n'.join(['from . import %s'%os.path.splitext(i)[0] \n",
    "                      for i in _models])\n",
    "exec(_imports)\n",
    "'''"
   ]
  },
  {
   "cell_type": "code",
   "execution_count": null,
   "metadata": {},
   "outputs": [],
   "source": [
    "os.makedirs('csv_files')\n",
    "os.makedirs('results')"
   ]
  },
  {
   "cell_type": "code",
   "execution_count": null,
   "metadata": {},
   "outputs": [],
   "source": [
    "os.makedirs('numenv/templates')\n",
    "with open('numenv/templates/__init__.py', 'w') as file:\n",
    "            file.write(init_text)"
   ]
  },
  {
   "cell_type": "code",
   "execution_count": null,
   "metadata": {},
   "outputs": [],
   "source": [
    "os.makedirs('numenv/assemblies')\n",
    "with open('numenv/assemblies/__init__.py', 'w') as file:\n",
    "            file.write(init_text)"
   ]
  },
  {
   "cell_type": "code",
   "execution_count": null,
   "metadata": {},
   "outputs": [],
   "source": [
    "os.makedirs('numenv/configurations')\n",
    "with open('numenv/configurations/__init__.py', 'w') as file:\n",
    "            file.write(init_text)"
   ]
  },
  {
   "cell_type": "code",
   "execution_count": null,
   "metadata": {},
   "outputs": [],
   "source": [
    "os.makedirs('numenv/blender')"
   ]
  }
 ],
 "metadata": {
  "kernelspec": {
   "display_name": "Python 3",
   "language": "python",
   "name": "python3"
  },
  "language_info": {
   "codemirror_mode": {
    "name": "ipython",
    "version": 3
   },
   "file_extension": ".py",
   "mimetype": "text/x-python",
   "name": "python",
   "nbconvert_exporter": "python",
   "pygments_lexer": "ipython3",
   "version": "3.7.3"
  }
 },
 "nbformat": 4,
 "nbformat_minor": 2
}
