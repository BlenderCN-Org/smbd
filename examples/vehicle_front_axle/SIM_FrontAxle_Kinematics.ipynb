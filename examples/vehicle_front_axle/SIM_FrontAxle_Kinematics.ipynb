{
 "cells": [
  {
   "cell_type": "markdown",
   "metadata": {},
   "source": [
    "# SIMULATION STUDY\n",
    "## **Front Axle Kinematics**\n",
    "-----------------"
   ]
  },
  {
   "cell_type": "markdown",
   "metadata": {},
   "source": [
    "### STUDY DISCRIPTION\n",
    "---------------------"
   ]
  },
  {
   "cell_type": "markdown",
   "metadata": {},
   "source": [
    "_Double click to write a discription here ..._"
   ]
  },
  {
   "cell_type": "markdown",
   "metadata": {},
   "source": [
    "-----------------------------------------------"
   ]
  },
  {
   "cell_type": "code",
   "execution_count": 2,
   "metadata": {},
   "outputs": [],
   "source": [
    "import sys\n",
    "pkg_path = '/home/khaledghobashy/Documents/asurt_cdt_symbolic'\n",
    "sys.path.append(pkg_path)"
   ]
  },
  {
   "cell_type": "code",
   "execution_count": 3,
   "metadata": {},
   "outputs": [],
   "source": [
    "import numpy as np\n",
    "from asurt.numenv.python.interfaces.scripting import multibody_system, simulation"
   ]
  },
  {
   "cell_type": "markdown",
   "metadata": {},
   "source": [
    "## ASSEMBLY IMPORT & CONFIGURATION ASSIGNMENT\n",
    "---------------------------------------------"
   ]
  },
  {
   "cell_type": "code",
   "execution_count": 4,
   "metadata": {},
   "outputs": [],
   "source": [
    "import numenv.assemblies as models\n",
    "import numenv.configurations as configs"
   ]
  },
  {
   "cell_type": "code",
   "execution_count": 5,
   "metadata": {},
   "outputs": [],
   "source": [
    "model = multibody_system(models.double_wishbone_assembly)"
   ]
  },
  {
   "cell_type": "code",
   "execution_count": 6,
   "metadata": {},
   "outputs": [],
   "source": [
    "model.Subsystems.SU.set_configuration_file(configs.double_wishbone_direct_acting_cfg)\n",
    "model.Subsystems.TR.set_configuration_file(configs.suspension_actuation_testrig_cfg)\n"
   ]
  },
  {
   "cell_type": "markdown",
   "metadata": {},
   "source": [
    "## SETTING MODEL ACTUATION FUNCTIONS\n",
    "------------------------------------"
   ]
  },
  {
   "cell_type": "code",
   "execution_count": 7,
   "metadata": {},
   "outputs": [],
   "source": [
    "model.Subsystems.TR.config.AF_mcr_ver_act = lambda t : 90*np.sin(t)\n",
    "model.Subsystems.TR.config.AF_mcl_ver_act = lambda t : 90*np.sin(t)\n",
    "\n",
    "model.Subsystems.TR.config.AF_jcr_rev = lambda t :  np.deg2rad(360)*t\n",
    "model.Subsystems.TR.config.AF_jcl_rev = lambda t : -np.deg2rad(360)*t"
   ]
  },
  {
   "cell_type": "markdown",
   "metadata": {},
   "source": [
    "## MODEL CONFIGURATIONS\n",
    "-----------------------"
   ]
  },
  {
   "cell_type": "markdown",
   "metadata": {},
   "source": [
    "### CONFIGURATION VARIANT #1"
   ]
  },
  {
   "cell_type": "markdown",
   "metadata": {},
   "source": [
    "#### SETTING CONFIGURATION DATA"
   ]
  },
  {
   "cell_type": "code",
   "execution_count": 8,
   "metadata": {},
   "outputs": [],
   "source": [
    "import pandas as pd"
   ]
  },
  {
   "cell_type": "code",
   "execution_count": 9,
   "metadata": {},
   "outputs": [],
   "source": [
    "SU_inputs_df = pd.read_csv('csv_files/double_wishbone_direct_acting_cfg.csv', index_col=0)\n",
    "TR_inputs_df = pd.read_csv('csv_files/suspension_actuation_testrig_cfg.csv', index_col=0)"
   ]
  },
  {
   "cell_type": "code",
   "execution_count": 10,
   "metadata": {},
   "outputs": [],
   "source": [
    "SU_inputs_df.loc['hpr_ucaf'] = [1300, 480, 615, 0]\n",
    "SU_inputs_df.loc['hpr_ucar'] = [1520, 480, 630, 0]\n",
    "SU_inputs_df.loc['hpr_ucao'] = [1410, 740, 630, 0]\n",
    "\n",
    "SU_inputs_df.loc['hpr_lcaf'] = [1245, 400, 390, 0]\n",
    "SU_inputs_df.loc['hpr_lcar'] = [1545, 400, 410, 0]\n",
    "SU_inputs_df.loc['hpr_lcao'] = [1359, 774, 400, 0]\n",
    "\n",
    "SU_inputs_df.loc['hpr_tri'] = [1575, 440, 448, 0]\n",
    "SU_inputs_df.loc['hpr_tro'] = [1555, 780, 455, 0]\n",
    "\n",
    "SU_inputs_df.loc['hpr_strut_chassis'] = [1410, 575, 545, 0]\n",
    "SU_inputs_df.loc['hpr_strut_lca'] = [1395, 620, 400, 0]\n",
    "\n",
    "SU_inputs_df.loc['hpr_wc'] = [1400, 800, 500, 0]\n",
    "SU_inputs_df.loc['hpr_wc1'] = [1400, 700, 500, 0]\n",
    "SU_inputs_df.loc['hpr_wc2'] = [1400, 900, 500, 0]\n",
    "\n",
    "SU_inputs_df.loc['vcs_x'] = [1, 0, 0, 0]\n",
    "SU_inputs_df.loc['vcs_y'] = [0, 1, 0, 0]\n",
    "SU_inputs_df.loc['vcs_z'] = [0, 0, 1, 0]\n",
    "\n",
    "SU_inputs_df.loc['s_hub_radius'] = [500, 0, 0, 0]\n",
    "SU_inputs_df.loc['s_links_ro'] = [10, 0, 0, 0]\n",
    "SU_inputs_df.loc['s_strut_inner'] = [25, 0, 0, 0]\n",
    "SU_inputs_df.loc['s_strut_outer'] = [30, 0, 0, 0]\n",
    "SU_inputs_df.loc['s_thickness'] = [10, 0, 0, 0]"
   ]
  },
  {
   "cell_type": "code",
   "execution_count": 11,
   "metadata": {},
   "outputs": [],
   "source": [
    "SU_inputs_df.to_csv('csv_files/double_wishbone_direct_acting_cfg_mod.csv')"
   ]
  },
  {
   "cell_type": "code",
   "execution_count": 12,
   "metadata": {},
   "outputs": [],
   "source": [
    "TR_inputs_df.loc['ax1_jcr_rev'] = [0, 1, 0, 0]\n",
    "TR_inputs_df.loc['pt1_mcr_ver_act'] = [1400, 800, 0, 0]"
   ]
  },
  {
   "cell_type": "code",
   "execution_count": 13,
   "metadata": {},
   "outputs": [],
   "source": [
    "TR_inputs_df.to_csv('csv_files/suspension_actuation_testrig_cfg_mod.csv')"
   ]
  },
  {
   "cell_type": "code",
   "execution_count": 14,
   "metadata": {},
   "outputs": [],
   "source": [
    "model.Subsystems.SU._topology.config.load_from_dataframe(SU_inputs_df)\n",
    "model.Subsystems.TR._topology.config.load_from_dataframe(TR_inputs_df)"
   ]
  },
  {
   "cell_type": "markdown",
   "metadata": {},
   "source": [
    "#### CREATING A SIMULATION INSTANCE"
   ]
  },
  {
   "cell_type": "code",
   "execution_count": 15,
   "metadata": {},
   "outputs": [
    {
     "name": "stdout",
     "output_type": "stream",
     "text": [
      "\n",
      "Running System Kinematic Analysis:\n",
      "Progress: [=========================] 100%, (99/99) steps."
     ]
    }
   ],
   "source": [
    "sim1 = simulation('v1', model, 'kds')\n",
    "sim1.set_time_array(2*np.pi, 100)\n",
    "sim1.solve()"
   ]
  },
  {
   "cell_type": "markdown",
   "metadata": {},
   "source": [
    "#### RESULTS' PLOTS"
   ]
  },
  {
   "cell_type": "code",
   "execution_count": 16,
   "metadata": {},
   "outputs": [],
   "source": [
    "time_array = sim1.soln.time_array\n",
    "vertical_travel = model.Subsystems.TR.config.AF_mcr_ver_act(time_array)"
   ]
  },
  {
   "cell_type": "code",
   "execution_count": 17,
   "metadata": {},
   "outputs": [
    {
     "data": {
      "image/png": "[encoded data removed]",
      "text/plain": [
       "<Figure size 576x288 with 1 Axes>"
      ]
     },
     "metadata": {
      "needs_background": "light"
     },
     "output_type": "display_data"
    },
    {
     "data": {
      "image/png": "[encoded data removed]",
      "text/plain": [
       "<Figure size 576x288 with 1 Axes>"
      ]
     },
     "metadata": {
      "needs_background": "light"
     },
     "output_type": "display_data"
    },
    {
     "data": {
      "image/png": "[encoded data removed]",
      "text/plain": [
       "<Figure size 576x288 with 1 Axes>"
      ]
     },
     "metadata": {
      "needs_background": "light"
     },
     "output_type": "display_data"
    }
   ],
   "source": [
    "sim1.plot([('SU.rbr_hub.x', 'pos')], vertical_travel)\n",
    "sim1.plot([('SU.rbr_hub.z', 'pos')], vertical_travel)\n",
    "sim1.plot([('SU.rbr_hub.y', 'pos')], vertical_travel)"
   ]
  },
  {
   "cell_type": "code",
   "execution_count": null,
   "metadata": {},
   "outputs": [],
   "source": []
  }
 ],
 "metadata": {
  "kernelspec": {
   "display_name": "Python 3",
   "language": "python",
   "name": "python3"
  },
  "language_info": {
   "codemirror_mode": {
    "name": "ipython",
    "version": 3
   },
   "file_extension": ".py",
   "mimetype": "text/x-python",
   "name": "python",
   "nbconvert_exporter": "python",
   "pygments_lexer": "ipython3",
   "version": "3.7.3"
  }
 },
 "nbformat": 4,
 "nbformat_minor": 2
}
